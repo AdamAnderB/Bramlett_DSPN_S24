{
  "cells": [
    {
      "cell_type": "markdown",
      "metadata": {
        "id": "view-in-github",
        "colab_type": "text"
      },
      "source": [
        "<a href=\"https://colab.research.google.com/github/AdamAnderB/Bramlett_DSPN_S24/blob/main/book/exercises/cross-validation.ipynb\" target=\"_parent\"><img src=\"https://colab.research.google.com/assets/colab-badge.svg\" alt=\"Open In Colab\"/></a>"
      ]
    },
    {
      "cell_type": "markdown",
      "metadata": {
        "id": "6xdZ1WjBmtDf"
      },
      "source": [
        "# Exercise 12: Cross validation\n",
        "-----\n",
        "\n",
        "In this exercise, we'll practice implementing cross validation techniques, including leave-one-out and k-fold cross validation. We'll use the `PimaIndiansDiabetes2` practice dataset, which has medical data on a group of Pima Native American women, including whether or not they have diabetes. This dataset is part of the `mlbench` package. We'll be using each person's medical history to predict whether or not they have been diagnosed with diabetes."
      ]
    },
    {
      "cell_type": "markdown",
      "metadata": {
        "id": "BubJSLTamtDg"
      },
      "source": [
        "# 1: Data (1 pts)\n",
        "---\n",
        "\n",
        "Load the `tidyverse`, `boot`, and `mlbench` packages (you may need to install `boot` and `mlbench`).\n",
        "\n",
        "Load the `PimaIndiansDiabetes2` dataset using the `data()` function. Drop the `insulin` column (it just has a lot of missing data) and then drop `NA`s from the rest of the dataset. Save your updated dataset to a new variable name. Finally, print the dimensions of your new dataset, and look at the first few lines of data."
      ]
    },
    {
      "cell_type": "code",
      "execution_count": 1,
      "metadata": {
        "id": "QNuKGb6emtDg",
        "vscode": {
          "languageId": "r"
        },
        "outputId": "c0732769-bbd4-40e6-d76a-461639e9c203",
        "colab": {
          "base_uri": "https://localhost:8080/"
        }
      },
      "outputs": [
        {
          "output_type": "stream",
          "name": "stderr",
          "text": [
            "── \u001b[1mAttaching core tidyverse packages\u001b[22m ──────────────────────── tidyverse 2.0.0 ──\n",
            "\u001b[32m✔\u001b[39m \u001b[34mdplyr    \u001b[39m 1.1.4     \u001b[32m✔\u001b[39m \u001b[34mreadr    \u001b[39m 2.1.5\n",
            "\u001b[32m✔\u001b[39m \u001b[34mforcats  \u001b[39m 1.0.0     \u001b[32m✔\u001b[39m \u001b[34mstringr  \u001b[39m 1.5.1\n",
            "\u001b[32m✔\u001b[39m \u001b[34mggplot2  \u001b[39m 3.4.4     \u001b[32m✔\u001b[39m \u001b[34mtibble   \u001b[39m 3.2.1\n",
            "\u001b[32m✔\u001b[39m \u001b[34mlubridate\u001b[39m 1.9.3     \u001b[32m✔\u001b[39m \u001b[34mtidyr    \u001b[39m 1.3.1\n",
            "\u001b[32m✔\u001b[39m \u001b[34mpurrr    \u001b[39m 1.0.2     \n",
            "── \u001b[1mConflicts\u001b[22m ────────────────────────────────────────── tidyverse_conflicts() ──\n",
            "\u001b[31m✖\u001b[39m \u001b[34mdplyr\u001b[39m::\u001b[32mfilter()\u001b[39m masks \u001b[34mstats\u001b[39m::filter()\n",
            "\u001b[31m✖\u001b[39m \u001b[34mdplyr\u001b[39m::\u001b[32mlag()\u001b[39m    masks \u001b[34mstats\u001b[39m::lag()\n",
            "\u001b[36mℹ\u001b[39m Use the conflicted package (\u001b[3m\u001b[34m<http://conflicted.r-lib.org/>\u001b[39m\u001b[23m) to force all conflicts to become errors\n",
            "Installing package into ‘/usr/local/lib/R/site-library’\n",
            "(as ‘lib’ is unspecified)\n",
            "\n",
            "Installing package into ‘/usr/local/lib/R/site-library’\n",
            "(as ‘lib’ is unspecified)\n",
            "\n"
          ]
        }
      ],
      "source": [
        "# INSERT CODE HERE\n",
        "library(tidyverse)\n",
        "install.packages(\"boot\")\n",
        "install.packages(\"mlbench\")\n",
        "library(boot)\n",
        "library(mlbench)"
      ]
    },
    {
      "cell_type": "code",
      "source": [
        "data(PimaIndiansDiabetes2, package=\"mlbench\")\n",
        "\n",
        "pid<-PimaIndiansDiabetes2%>%\n",
        "  select(!c(insulin))%>%\n",
        "  na.omit()\n",
        "\n",
        "\n",
        "head(pid)\n",
        "dim(pid)"
      ],
      "metadata": {
        "id": "A9bS0ak6P7KZ",
        "outputId": "d1f0c9d3-0fa0-4640-ef2f-f0015b86c91d",
        "colab": {
          "base_uri": "https://localhost:8080/",
          "height": 304
        }
      },
      "execution_count": 19,
      "outputs": [
        {
          "output_type": "display_data",
          "data": {
            "text/html": [
              "<table class=\"dataframe\">\n",
              "<caption>A data.frame: 6 × 8</caption>\n",
              "<thead>\n",
              "\t<tr><th></th><th scope=col>pregnant</th><th scope=col>glucose</th><th scope=col>pressure</th><th scope=col>triceps</th><th scope=col>mass</th><th scope=col>pedigree</th><th scope=col>age</th><th scope=col>diabetes</th></tr>\n",
              "\t<tr><th></th><th scope=col>&lt;dbl&gt;</th><th scope=col>&lt;dbl&gt;</th><th scope=col>&lt;dbl&gt;</th><th scope=col>&lt;dbl&gt;</th><th scope=col>&lt;dbl&gt;</th><th scope=col>&lt;dbl&gt;</th><th scope=col>&lt;dbl&gt;</th><th scope=col>&lt;fct&gt;</th></tr>\n",
              "</thead>\n",
              "<tbody>\n",
              "\t<tr><th scope=row>1</th><td>6</td><td>148</td><td>72</td><td>35</td><td>33.6</td><td>0.627</td><td>50</td><td>pos</td></tr>\n",
              "\t<tr><th scope=row>2</th><td>1</td><td> 85</td><td>66</td><td>29</td><td>26.6</td><td>0.351</td><td>31</td><td>neg</td></tr>\n",
              "\t<tr><th scope=row>4</th><td>1</td><td> 89</td><td>66</td><td>23</td><td>28.1</td><td>0.167</td><td>21</td><td>neg</td></tr>\n",
              "\t<tr><th scope=row>5</th><td>0</td><td>137</td><td>40</td><td>35</td><td>43.1</td><td>2.288</td><td>33</td><td>pos</td></tr>\n",
              "\t<tr><th scope=row>7</th><td>3</td><td> 78</td><td>50</td><td>32</td><td>31.0</td><td>0.248</td><td>26</td><td>pos</td></tr>\n",
              "\t<tr><th scope=row>9</th><td>2</td><td>197</td><td>70</td><td>45</td><td>30.5</td><td>0.158</td><td>53</td><td>pos</td></tr>\n",
              "</tbody>\n",
              "</table>\n"
            ],
            "text/markdown": "\nA data.frame: 6 × 8\n\n| <!--/--> | pregnant &lt;dbl&gt; | glucose &lt;dbl&gt; | pressure &lt;dbl&gt; | triceps &lt;dbl&gt; | mass &lt;dbl&gt; | pedigree &lt;dbl&gt; | age &lt;dbl&gt; | diabetes &lt;fct&gt; |\n|---|---|---|---|---|---|---|---|---|\n| 1 | 6 | 148 | 72 | 35 | 33.6 | 0.627 | 50 | pos |\n| 2 | 1 |  85 | 66 | 29 | 26.6 | 0.351 | 31 | neg |\n| 4 | 1 |  89 | 66 | 23 | 28.1 | 0.167 | 21 | neg |\n| 5 | 0 | 137 | 40 | 35 | 43.1 | 2.288 | 33 | pos |\n| 7 | 3 |  78 | 50 | 32 | 31.0 | 0.248 | 26 | pos |\n| 9 | 2 | 197 | 70 | 45 | 30.5 | 0.158 | 53 | pos |\n\n",
            "text/latex": "A data.frame: 6 × 8\n\\begin{tabular}{r|llllllll}\n  & pregnant & glucose & pressure & triceps & mass & pedigree & age & diabetes\\\\\n  & <dbl> & <dbl> & <dbl> & <dbl> & <dbl> & <dbl> & <dbl> & <fct>\\\\\n\\hline\n\t1 & 6 & 148 & 72 & 35 & 33.6 & 0.627 & 50 & pos\\\\\n\t2 & 1 &  85 & 66 & 29 & 26.6 & 0.351 & 31 & neg\\\\\n\t4 & 1 &  89 & 66 & 23 & 28.1 & 0.167 & 21 & neg\\\\\n\t5 & 0 & 137 & 40 & 35 & 43.1 & 2.288 & 33 & pos\\\\\n\t7 & 3 &  78 & 50 & 32 & 31.0 & 0.248 & 26 & pos\\\\\n\t9 & 2 & 197 & 70 & 45 & 30.5 & 0.158 & 53 & pos\\\\\n\\end{tabular}\n",
            "text/plain": [
              "  pregnant glucose pressure triceps mass pedigree age diabetes\n",
              "1 6        148     72       35      33.6 0.627    50  pos     \n",
              "2 1         85     66       29      26.6 0.351    31  neg     \n",
              "4 1         89     66       23      28.1 0.167    21  neg     \n",
              "5 0        137     40       35      43.1 2.288    33  pos     \n",
              "7 3         78     50       32      31.0 0.248    26  pos     \n",
              "9 2        197     70       45      30.5 0.158    53  pos     "
            ]
          },
          "metadata": {}
        },
        {
          "output_type": "display_data",
          "data": {
            "text/html": [
              "<style>\n",
              ".list-inline {list-style: none; margin:0; padding: 0}\n",
              ".list-inline>li {display: inline-block}\n",
              ".list-inline>li:not(:last-child)::after {content: \"\\00b7\"; padding: 0 .5ex}\n",
              "</style>\n",
              "<ol class=list-inline><li>532</li><li>8</li></ol>\n"
            ],
            "text/markdown": "1. 532\n2. 8\n\n\n",
            "text/latex": "\\begin{enumerate*}\n\\item 532\n\\item 8\n\\end{enumerate*}\n",
            "text/plain": [
              "[1] 532   8"
            ]
          },
          "metadata": {}
        }
      ]
    },
    {
      "cell_type": "markdown",
      "metadata": {
        "id": "_BRVQiWSmtDh"
      },
      "source": [
        "(Note that in medical contexts, `pedigree` refers to a system of measuring family history of a condition. So here, higher numbers mean greater family history of diabetes. You can read more about this dataset [here](https://rdrr.io/cran/mlbench/man/PimaIndiansDiabetes.html).)\n",
        "\n",
        "# 2. Leave-one-out Cross Validation (4 pts)\n",
        "\n",
        "In the tutorial, we learned how to fit leave-one-out cross validation using the `cv.glm` function from the `boot` package. But we can also do this manually using `predict()` like we have in the past.\n",
        "\n",
        "Let's predict `diabetes`, a dichotomous outcome, using all the other variables in our modified dataset.\n",
        "\n",
        "First, fit a logistic regression model using all of the observations except the very first one. Then use your fitted model to predict whether your holdout case is positive or negative for diabetes. Remember that logistic regression coefficients are in **log-odds**, meaning that if an output is positive, the probability of the outcome is greater than 50%; if the output is negative, the probability of the outcome is less than 50%.\n",
        "\n",
        "Compare your result to the actual response in row one above. Did your model correctly classify this observation?"
      ]
    },
    {
      "cell_type": "code",
      "execution_count": 18,
      "metadata": {
        "id": "RDyry5h_mtDi",
        "vscode": {
          "languageId": "r"
        },
        "outputId": "c2086ba4-27ba-4360-a7e4-f19c3ab2647c",
        "colab": {
          "base_uri": "https://localhost:8080/",
          "height": 164
        }
      },
      "outputs": [
        {
          "output_type": "display_data",
          "data": {
            "text/html": [
              "<table class=\"dataframe\">\n",
              "<caption>A data.frame: 1 × 8</caption>\n",
              "<thead>\n",
              "\t<tr><th></th><th scope=col>pregnant</th><th scope=col>glucose</th><th scope=col>pressure</th><th scope=col>triceps</th><th scope=col>mass</th><th scope=col>pedigree</th><th scope=col>age</th><th scope=col>diabetes</th></tr>\n",
              "\t<tr><th></th><th scope=col>&lt;dbl&gt;</th><th scope=col>&lt;dbl&gt;</th><th scope=col>&lt;dbl&gt;</th><th scope=col>&lt;dbl&gt;</th><th scope=col>&lt;dbl&gt;</th><th scope=col>&lt;dbl&gt;</th><th scope=col>&lt;dbl&gt;</th><th scope=col>&lt;fct&gt;</th></tr>\n",
              "</thead>\n",
              "<tbody>\n",
              "\t<tr><th scope=row>1</th><td>6</td><td>148</td><td>72</td><td>35</td><td>33.6</td><td>0.627</td><td>50</td><td>pos</td></tr>\n",
              "</tbody>\n",
              "</table>\n"
            ],
            "text/markdown": "\nA data.frame: 1 × 8\n\n| <!--/--> | pregnant &lt;dbl&gt; | glucose &lt;dbl&gt; | pressure &lt;dbl&gt; | triceps &lt;dbl&gt; | mass &lt;dbl&gt; | pedigree &lt;dbl&gt; | age &lt;dbl&gt; | diabetes &lt;fct&gt; |\n|---|---|---|---|---|---|---|---|---|\n| 1 | 6 | 148 | 72 | 35 | 33.6 | 0.627 | 50 | pos |\n\n",
            "text/latex": "A data.frame: 1 × 8\n\\begin{tabular}{r|llllllll}\n  & pregnant & glucose & pressure & triceps & mass & pedigree & age & diabetes\\\\\n  & <dbl> & <dbl> & <dbl> & <dbl> & <dbl> & <dbl> & <dbl> & <fct>\\\\\n\\hline\n\t1 & 6 & 148 & 72 & 35 & 33.6 & 0.627 & 50 & pos\\\\\n\\end{tabular}\n",
            "text/plain": [
              "  pregnant glucose pressure triceps mass pedigree age diabetes\n",
              "1 6        148     72       35      33.6 0.627    50  pos     "
            ]
          },
          "metadata": {}
        },
        {
          "output_type": "display_data",
          "data": {
            "text/html": [
              "<strong>1:</strong> 0.992021298596847"
            ],
            "text/markdown": "**1:** 0.992021298596847",
            "text/latex": "\\textbf{1:} 0.992021298596847",
            "text/plain": [
              "        1 \n",
              "0.9920213 "
            ]
          },
          "metadata": {}
        },
        {
          "output_type": "display_data",
          "data": {
            "text/html": [
              "<strong>1:</strong> 0.729486981746287"
            ],
            "text/markdown": "**1:** 0.729486981746287",
            "text/latex": "\\textbf{1:} 0.729486981746287",
            "text/plain": [
              "       1 \n",
              "0.729487 "
            ]
          },
          "metadata": {}
        }
      ],
      "source": [
        "# INSERT CODE HERE\n",
        "model <- glm(diabetes ~ pregnant + glucose + pressure + triceps + mass + pedigree + age,\n",
        "             family = binomial(link = 'logit'),\n",
        "             data = pid[-1,])\n",
        "prediction_log_odds<-predict(model, newdata = pid[1, ],type = \"link\")\n",
        "prediction_probability<-exp(prediction_log_odds)/(1+exp(prediction_log_odds))\n",
        "pid[1,]\n",
        "prediction_log_odds\n",
        "prediction_probability"
      ]
    },
    {
      "cell_type": "markdown",
      "source": [
        "The model was very good. It did a great job predicting what would have happened. it said it was .99 log odds and that converted is ~.73."
      ],
      "metadata": {
        "id": "Zq8sJsBaTFVQ"
      }
    },
    {
      "cell_type": "markdown",
      "metadata": {
        "id": "sIPpDdd0mtDi"
      },
      "source": [
        "So we just calculated a single iteration of LOOCV. We used 531 rows of our data to fit a model to predict the outcome of the last row.\n",
        "\n",
        "Below, use a `for` loop to iterate through the rest of your dataset doing the same thing. You will need to:\n",
        "* Create a data frame `results` with two columns: one named `actual` which holds the true classification for each observation, and one named `predicted`, which should be filled with `NA`s. This is where you'll store the output of your loop.\n",
        "* Create a loop that runs through each row of your data, pulls that observation out, trains your model on the remaining data, and then tests the fitted model on your test observation.\n",
        "* Store your model *predictions* (\"pos\" or \"neg\" -- not the log-odds) in the `predicted` column of your `results` dataframe\n",
        "\n",
        "After you run your loop, print the first few lines of `results`."
      ]
    },
    {
      "cell_type": "code",
      "execution_count": 20,
      "metadata": {
        "id": "5Z1ijm_PmtDj",
        "vscode": {
          "languageId": "r"
        },
        "outputId": "6ddcd759-d221-481e-945b-f8040be53fef",
        "colab": {
          "base_uri": "https://localhost:8080/",
          "height": 286
        }
      },
      "outputs": [
        {
          "output_type": "display_data",
          "data": {
            "text/html": [
              "<table class=\"dataframe\">\n",
              "<caption>A data.frame: 6 × 2</caption>\n",
              "<thead>\n",
              "\t<tr><th></th><th scope=col>actual</th><th scope=col>predicted</th></tr>\n",
              "\t<tr><th></th><th scope=col>&lt;fct&gt;</th><th scope=col>&lt;chr&gt;</th></tr>\n",
              "</thead>\n",
              "<tbody>\n",
              "\t<tr><th scope=row>1</th><td>pos</td><td>pos</td></tr>\n",
              "\t<tr><th scope=row>2</th><td>neg</td><td>neg</td></tr>\n",
              "\t<tr><th scope=row>3</th><td>neg</td><td>neg</td></tr>\n",
              "\t<tr><th scope=row>4</th><td>pos</td><td>pos</td></tr>\n",
              "\t<tr><th scope=row>5</th><td>pos</td><td>neg</td></tr>\n",
              "\t<tr><th scope=row>6</th><td>pos</td><td>pos</td></tr>\n",
              "</tbody>\n",
              "</table>\n"
            ],
            "text/markdown": "\nA data.frame: 6 × 2\n\n| <!--/--> | actual &lt;fct&gt; | predicted &lt;chr&gt; |\n|---|---|---|\n| 1 | pos | pos |\n| 2 | neg | neg |\n| 3 | neg | neg |\n| 4 | pos | pos |\n| 5 | pos | neg |\n| 6 | pos | pos |\n\n",
            "text/latex": "A data.frame: 6 × 2\n\\begin{tabular}{r|ll}\n  & actual & predicted\\\\\n  & <fct> & <chr>\\\\\n\\hline\n\t1 & pos & pos\\\\\n\t2 & neg & neg\\\\\n\t3 & neg & neg\\\\\n\t4 & pos & pos\\\\\n\t5 & pos & neg\\\\\n\t6 & pos & pos\\\\\n\\end{tabular}\n",
            "text/plain": [
              "  actual predicted\n",
              "1 pos    pos      \n",
              "2 neg    neg      \n",
              "3 neg    neg      \n",
              "4 pos    pos      \n",
              "5 pos    neg      \n",
              "6 pos    pos      "
            ]
          },
          "metadata": {}
        }
      ],
      "source": [
        "# Initialize `results` data frame\n",
        "# INSERT CODE HERE\n",
        "results <- data.frame(actual = pid$diabetes, predicted = rep(NA, nrow(pid)))\n",
        "\n",
        "\n",
        "#for loop\n",
        "for (i in 1:nrow(pid)) {\n",
        "  # separate individual observation `i` from the rest of your data\n",
        "  train_data <- pid[-i, ]\n",
        "  test_data <- pid[i, ]\n",
        "\n",
        "  # train your model\n",
        "  model<-glm(diabetes ~ pregnant + glucose + pressure + triceps + mass + pedigree + age,\n",
        "               family = binomial(link = 'logit'),\n",
        "               data = train_data)\n",
        "\n",
        "  # test model on hold out observation\n",
        "  prediction_log_odds<-predict(model, newdata=test_data, type=\"link\")\n",
        "  prediction_probability<-exp(prediction_log_odds)/(1+exp(prediction_log_odds))\n",
        "\n",
        "  # classify model prediction as \"pos\" or \"neg\" and add to `results`\n",
        "  results$predicted[i]<-ifelse(prediction_probability > 0.5, \"pos\", \"neg\")\n",
        "}\n",
        "\n",
        "head(results)\n"
      ]
    },
    {
      "cell_type": "code",
      "source": [],
      "metadata": {
        "id": "RMtjPHQAVC3Z"
      },
      "execution_count": null,
      "outputs": []
    },
    {
      "cell_type": "markdown",
      "metadata": {
        "id": "42Jng_EEmtDk"
      },
      "source": [
        "Now, calculate the overall error of your model. What proportion of cases were incorrectly classified?"
      ]
    },
    {
      "cell_type": "code",
      "execution_count": 21,
      "metadata": {
        "id": "SYhKS5HimtDk",
        "vscode": {
          "languageId": "r"
        },
        "outputId": "e3daee31-d64b-441b-adc3-81a1ca5e20a6",
        "colab": {
          "base_uri": "https://localhost:8080/",
          "height": 34
        }
      },
      "outputs": [
        {
          "output_type": "display_data",
          "data": {
            "text/html": [
              "0.221804511278195"
            ],
            "text/markdown": "0.221804511278195",
            "text/latex": "0.221804511278195",
            "text/plain": [
              "[1] 0.2218045"
            ]
          },
          "metadata": {}
        }
      ],
      "source": [
        "incorrect_classifications<-sum(results$actual!=results$predicted)\n",
        "total_observations<-nrow(results)\n",
        "overall_error_rate<-incorrect_classifications / total_observations\n",
        "overall_error_rate"
      ]
    },
    {
      "cell_type": "markdown",
      "source": [
        "22% were classified incorrectly"
      ],
      "metadata": {
        "id": "vv84CQoSVeE_"
      }
    },
    {
      "cell_type": "markdown",
      "metadata": {
        "id": "W1TwL8BimtDl"
      },
      "source": [
        "# 3. Compare to `cv.glm` (3 pts)\n",
        "\n",
        "Now, let's compare this result to the `cv.glm` function. Using the tutorial as a guide, use `cv.glm` to run LOOCV on the data, using the same model (i.e., still using all of the variables to predict diabetes diagnosis).\n",
        "\n",
        "Note that, because this is a `classification` problem and not a regression problem like in the tutorial, we need to adjust the `cost` argument of `cv.glm`. We can read more about this in the docs:"
      ]
    },
    {
      "cell_type": "code",
      "execution_count": 29,
      "metadata": {
        "id": "wIUAW1AtmtDl",
        "vscode": {
          "languageId": "r"
        }
      },
      "outputs": [],
      "source": [
        "?cv.glm"
      ]
    },
    {
      "cell_type": "markdown",
      "metadata": {
        "id": "SWhbyxtymtDl"
      },
      "source": [
        "Here, we see `cost` is defined as:\n",
        "> \"A function of two vector arguments specifying the cost function for the cross-validation. The first argument to cost should correspond to the **observed responses** and the second argument should correspond to the **predicted or fitted responses** from the generalized linear model.\"\n",
        "\n",
        "In the example code (scroll to bottom of the docs), we see that the appropriate cost function for a binary classification is\n",
        "\n",
        "``\n",
        "cost <- function(r, pi = 0) mean(abs(r-pi) > 0.5)\n",
        "``\n",
        "\n",
        "Where `r` is the vector of observed responses (technically \"pos\" and \"neg\", but R treats these as 1 and 0 under the hood), and `pi` is the vector of *probabilities* (not log-odds) fit by the model. Thus, this boils down to our error: what proportion of observations were incorrectly classified. You will need to include this code below."
      ]
    },
    {
      "cell_type": "code",
      "execution_count": 30,
      "metadata": {
        "id": "bJiCmfqomtDl",
        "vscode": {
          "languageId": "r"
        },
        "outputId": "ebefe823-7cce-4b2e-9411-b72f9c45d5bf",
        "colab": {
          "base_uri": "https://localhost:8080/",
          "height": 34
        }
      },
      "outputs": [
        {
          "output_type": "display_data",
          "data": {
            "text/html": [
              "<style>\n",
              ".list-inline {list-style: none; margin:0; padding: 0}\n",
              ".list-inline>li {display: inline-block}\n",
              ".list-inline>li:not(:last-child)::after {content: \"\\00b7\"; padding: 0 .5ex}\n",
              "</style>\n",
              "<ol class=list-inline><li>0.221804511278196</li><li>0.222115438973376</li></ol>\n"
            ],
            "text/markdown": "1. 0.221804511278196\n2. 0.222115438973376\n\n\n",
            "text/latex": "\\begin{enumerate*}\n\\item 0.221804511278196\n\\item 0.222115438973376\n\\end{enumerate*}\n",
            "text/plain": [
              "[1] 0.2218045 0.2221154"
            ]
          },
          "metadata": {}
        }
      ],
      "source": [
        "# INSERT CODE HERE\n",
        "model <- glm(diabetes ~ pregnant + glucose + pressure + triceps + mass + pedigree + age,\n",
        "             family = binomial(link = 'logit'),\n",
        "             data = pid)\n",
        "\n",
        "cost<-function(r, pi = 0) {mean(abs(r - pi) > 0.5)}\n",
        "\n",
        "#cv.glm\n",
        "cv_result <- cv.glm(pid, model, cost, K = nrow(pid))\n",
        "overall_error <- cv_result$delta\n",
        "overall_error"
      ]
    },
    {
      "cell_type": "markdown",
      "metadata": {
        "id": "IcEuGX3FmtDm"
      },
      "source": [
        "How do your results compare to your manual LOOCV above?\n",
        "\n",
        "> * *Write response here*\n",
        ">They are basically exactly the same. Meaning I think I did it right! Yay! both are ~.2218\n",
        "> *\n"
      ]
    },
    {
      "cell_type": "markdown",
      "metadata": {
        "id": "6Y2tL4NpmtDm"
      },
      "source": [
        "# 4. Adjusting K and Reflection (2 pts)\n",
        "\n",
        "Recall that LOOCV has some drawbacks. In particular, it has quite high *variance* which can lead to poor performance on new test data. We can reduce this variance by increasing K.\n",
        "\n",
        "Below, re-run your cross validation using `cv.glm` with `k` set to 3, 5, 10, and 15."
      ]
    },
    {
      "cell_type": "code",
      "execution_count": 35,
      "metadata": {
        "id": "vZYq_NQlmtDm",
        "scrolled": true,
        "vscode": {
          "languageId": "r"
        },
        "outputId": "01c69bbe-0e80-4ec6-c30c-f1af297c20e2",
        "colab": {
          "base_uri": "https://localhost:8080/",
          "height": 34
        }
      },
      "outputs": [
        {
          "output_type": "display_data",
          "data": {
            "text/html": [
              "<style>\n",
              ".list-inline {list-style: none; margin:0; padding: 0}\n",
              ".list-inline>li {display: inline-block}\n",
              ".list-inline>li:not(:last-child)::after {content: \"\\00b7\"; padding: 0 .5ex}\n",
              "</style>\n",
              "<ol class=list-inline><li>0.229323308270677</li><li>0.221804511278195</li><li>0.214285714285714</li><li>0.219924812030075</li></ol>\n"
            ],
            "text/markdown": "1. 0.229323308270677\n2. 0.221804511278195\n3. 0.214285714285714\n4. 0.219924812030075\n\n\n",
            "text/latex": "\\begin{enumerate*}\n\\item 0.229323308270677\n\\item 0.221804511278195\n\\item 0.214285714285714\n\\item 0.219924812030075\n\\end{enumerate*}\n",
            "text/plain": [
              "[1] 0.2293233 0.2218045 0.2142857 0.2199248"
            ]
          },
          "metadata": {}
        }
      ],
      "source": [
        "set.seed(1089)\n",
        "#INSERT CODE BELOW\n",
        "k_values <- c(3, 5, 10, 15)\n",
        "overall_errors <- numeric(length(k_values))\n",
        "#I decided to do a for loop because I am short on time and my copy and paste\n",
        "#method was having issues that I couldn't figure out.\n",
        "# K = 3\n",
        "# K = 5\n",
        "# K = 10\n",
        "# K = 15\n",
        "for (i in seq_along(k_values)) {\n",
        "  cv_result <- cv.glm(pid, model, cost, K = k_values[i])\n",
        "  overall_errors[i] <- cv_result$delta[1]\n",
        "}\n",
        "overall_errors"
      ]
    },
    {
      "cell_type": "markdown",
      "metadata": {
        "id": "fI5Y1OqOmtDn"
      },
      "source": [
        "#### Reflection\n",
        "\n",
        "How do your errors compare to your LOOCV error above? How do they change as k increases?\n",
        "> * *Write response here*\n",
        "> They are all pretty close. However, the lower K seems to produce lower error, but it is only slight different. This makes since because more data per fold. However, it could also be an effect of the random seed. We would need to look across random seeds to know better.\n",
        "> *  \n",
        "\n",
        "If you change the random seed above, you'll get slightly different errors. If you were to do the same with your LOOCV above , would you expect to get different results each time? Why or why not?\n",
        "> * *Write response here*\n",
        "The results of the Leave one out cross validation are inherently stable. So I wouldnt' expect a change (aka no randomness). It is going through every possibility. However, the folding splits the data randomly which is why it is different with different seeds.\n",
        "> *"
      ]
    },
    {
      "cell_type": "markdown",
      "metadata": {
        "id": "2EdjopubPnVm"
      },
      "source": [
        "\n",
        "**DUE:** 5pm March 25, 2024\n",
        "\n",
        "**IMPORTANT** Did you collaborate with anyone on this assignment? If so, list their names here.\n",
        "> *Someone's Name*\n",
        ">\n",
        ">\n"
      ]
    }
  ],
  "metadata": {
    "colab": {
      "provenance": [],
      "include_colab_link": true
    },
    "kernelspec": {
      "display_name": "R",
      "language": "R",
      "name": "ir"
    },
    "language_info": {
      "codemirror_mode": "r",
      "file_extension": ".r",
      "mimetype": "text/x-r-source",
      "name": "R",
      "pygments_lexer": "r",
      "version": "4.2.0"
    }
  },
  "nbformat": 4,
  "nbformat_minor": 0
}