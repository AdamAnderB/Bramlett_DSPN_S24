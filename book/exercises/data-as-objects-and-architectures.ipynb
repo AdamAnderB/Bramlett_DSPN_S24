{
  "cells": [
    {
      "cell_type": "markdown",
      "metadata": {
        "id": "view-in-github",
        "colab_type": "text"
      },
      "source": [
        "<a href=\"https://colab.research.google.com/github/AdamAnderB/Bramlett_DSPN_S24/blob/main/book/exercises/data-as-objects-and-architectures.ipynb\" target=\"_parent\"><img src=\"https://colab.research.google.com/assets/colab-badge.svg\" alt=\"Open In Colab\"/></a>"
      ]
    },
    {
      "cell_type": "markdown",
      "metadata": {
        "id": "-2W919d2ZXp7"
      },
      "source": [
        "# Exercise 3: Data objects"
      ]
    },
    {
      "cell_type": "markdown",
      "metadata": {
        "id": "L4nOzVhyZXqK"
      },
      "source": [
        "These exercises are designed to get you comfortable extracting information from data objects.\n",
        "\n",
        "We'll work with the `Credit` dataset which comes in the `ISLR` package in R. This is a simulated dataset that provides credit and demographic information on 10,000 hypothetical customers."
      ]
    },
    {
      "cell_type": "markdown",
      "metadata": {
        "id": "9DsyBTB6ZXqN"
      },
      "source": [
        "---\n",
        "## 1. Load packages, data, model (1 point)\n",
        "\n",
        "Install and load `ISLR` below."
      ]
    },
    {
      "cell_type": "code",
      "execution_count": 2,
      "metadata": {
        "colab": {
          "base_uri": "https://localhost:8080/"
        },
        "id": "UnBVazYfZXqP",
        "outputId": "32080301-0f88-494f-d476-424032570db7",
        "scrolled": true,
        "vscode": {
          "languageId": "r"
        }
      },
      "outputs": [
        {
          "output_type": "stream",
          "name": "stderr",
          "text": [
            "Installing package into ‘/usr/local/lib/R/site-library’\n",
            "(as ‘lib’ is unspecified)\n",
            "\n"
          ]
        }
      ],
      "source": [
        "install.packages(\"ISLR\")"
      ]
    },
    {
      "cell_type": "code",
      "source": [
        "library('ISLR')\n",
        "library('dplyr')"
      ],
      "metadata": {
        "colab": {
          "base_uri": "https://localhost:8080/"
        },
        "id": "93pUCVzjlifh",
        "outputId": "f0f01a45-6771-4403-ce20-126ecc83eec0"
      },
      "execution_count": 22,
      "outputs": [
        {
          "output_type": "stream",
          "name": "stderr",
          "text": [
            "\n",
            "Attaching package: ‘dplyr’\n",
            "\n",
            "\n",
            "The following objects are masked from ‘package:stats’:\n",
            "\n",
            "    filter, lag\n",
            "\n",
            "\n",
            "The following objects are masked from ‘package:base’:\n",
            "\n",
            "    intersect, setdiff, setequal, union\n",
            "\n",
            "\n"
          ]
        }
      ]
    },
    {
      "cell_type": "markdown",
      "metadata": {
        "id": "3OpBlVYKf4LX"
      },
      "source": [
        "Take a look at the first few rows of the `Credit` dataset."
      ]
    },
    {
      "cell_type": "code",
      "execution_count": 4,
      "metadata": {
        "scrolled": true,
        "vscode": {
          "languageId": "r"
        },
        "colab": {
          "base_uri": "https://localhost:8080/",
          "height": 286
        },
        "id": "ut6a4pcnf4LX",
        "outputId": "7f0aaa02-5ca3-4b5b-9e75-c444f1ad1323"
      },
      "outputs": [
        {
          "output_type": "display_data",
          "data": {
            "text/html": [
              "<table class=\"dataframe\">\n",
              "<caption>A data.frame: 6 × 12</caption>\n",
              "<thead>\n",
              "\t<tr><th></th><th scope=col>ID</th><th scope=col>Income</th><th scope=col>Limit</th><th scope=col>Rating</th><th scope=col>Cards</th><th scope=col>Age</th><th scope=col>Education</th><th scope=col>Gender</th><th scope=col>Student</th><th scope=col>Married</th><th scope=col>Ethnicity</th><th scope=col>Balance</th></tr>\n",
              "\t<tr><th></th><th scope=col>&lt;int&gt;</th><th scope=col>&lt;dbl&gt;</th><th scope=col>&lt;int&gt;</th><th scope=col>&lt;int&gt;</th><th scope=col>&lt;int&gt;</th><th scope=col>&lt;int&gt;</th><th scope=col>&lt;int&gt;</th><th scope=col>&lt;fct&gt;</th><th scope=col>&lt;fct&gt;</th><th scope=col>&lt;fct&gt;</th><th scope=col>&lt;fct&gt;</th><th scope=col>&lt;int&gt;</th></tr>\n",
              "</thead>\n",
              "<tbody>\n",
              "\t<tr><th scope=row>1</th><td>1</td><td> 14.891</td><td>3606</td><td>283</td><td>2</td><td>34</td><td>11</td><td> Male </td><td>No </td><td>Yes</td><td>Caucasian</td><td> 333</td></tr>\n",
              "\t<tr><th scope=row>2</th><td>2</td><td>106.025</td><td>6645</td><td>483</td><td>3</td><td>82</td><td>15</td><td>Female</td><td>Yes</td><td>Yes</td><td>Asian    </td><td> 903</td></tr>\n",
              "\t<tr><th scope=row>3</th><td>3</td><td>104.593</td><td>7075</td><td>514</td><td>4</td><td>71</td><td>11</td><td> Male </td><td>No </td><td>No </td><td>Asian    </td><td> 580</td></tr>\n",
              "\t<tr><th scope=row>4</th><td>4</td><td>148.924</td><td>9504</td><td>681</td><td>3</td><td>36</td><td>11</td><td>Female</td><td>No </td><td>No </td><td>Asian    </td><td> 964</td></tr>\n",
              "\t<tr><th scope=row>5</th><td>5</td><td> 55.882</td><td>4897</td><td>357</td><td>2</td><td>68</td><td>16</td><td> Male </td><td>No </td><td>Yes</td><td>Caucasian</td><td> 331</td></tr>\n",
              "\t<tr><th scope=row>6</th><td>6</td><td> 80.180</td><td>8047</td><td>569</td><td>4</td><td>77</td><td>10</td><td> Male </td><td>No </td><td>No </td><td>Caucasian</td><td>1151</td></tr>\n",
              "</tbody>\n",
              "</table>\n"
            ],
            "text/markdown": "\nA data.frame: 6 × 12\n\n| <!--/--> | ID &lt;int&gt; | Income &lt;dbl&gt; | Limit &lt;int&gt; | Rating &lt;int&gt; | Cards &lt;int&gt; | Age &lt;int&gt; | Education &lt;int&gt; | Gender &lt;fct&gt; | Student &lt;fct&gt; | Married &lt;fct&gt; | Ethnicity &lt;fct&gt; | Balance &lt;int&gt; |\n|---|---|---|---|---|---|---|---|---|---|---|---|---|\n| 1 | 1 |  14.891 | 3606 | 283 | 2 | 34 | 11 |  Male  | No  | Yes | Caucasian |  333 |\n| 2 | 2 | 106.025 | 6645 | 483 | 3 | 82 | 15 | Female | Yes | Yes | Asian     |  903 |\n| 3 | 3 | 104.593 | 7075 | 514 | 4 | 71 | 11 |  Male  | No  | No  | Asian     |  580 |\n| 4 | 4 | 148.924 | 9504 | 681 | 3 | 36 | 11 | Female | No  | No  | Asian     |  964 |\n| 5 | 5 |  55.882 | 4897 | 357 | 2 | 68 | 16 |  Male  | No  | Yes | Caucasian |  331 |\n| 6 | 6 |  80.180 | 8047 | 569 | 4 | 77 | 10 |  Male  | No  | No  | Caucasian | 1151 |\n\n",
            "text/latex": "A data.frame: 6 × 12\n\\begin{tabular}{r|llllllllllll}\n  & ID & Income & Limit & Rating & Cards & Age & Education & Gender & Student & Married & Ethnicity & Balance\\\\\n  & <int> & <dbl> & <int> & <int> & <int> & <int> & <int> & <fct> & <fct> & <fct> & <fct> & <int>\\\\\n\\hline\n\t1 & 1 &  14.891 & 3606 & 283 & 2 & 34 & 11 &  Male  & No  & Yes & Caucasian &  333\\\\\n\t2 & 2 & 106.025 & 6645 & 483 & 3 & 82 & 15 & Female & Yes & Yes & Asian     &  903\\\\\n\t3 & 3 & 104.593 & 7075 & 514 & 4 & 71 & 11 &  Male  & No  & No  & Asian     &  580\\\\\n\t4 & 4 & 148.924 & 9504 & 681 & 3 & 36 & 11 & Female & No  & No  & Asian     &  964\\\\\n\t5 & 5 &  55.882 & 4897 & 357 & 2 & 68 & 16 &  Male  & No  & Yes & Caucasian &  331\\\\\n\t6 & 6 &  80.180 & 8047 & 569 & 4 & 77 & 10 &  Male  & No  & No  & Caucasian & 1151\\\\\n\\end{tabular}\n",
            "text/plain": [
              "  ID Income  Limit Rating Cards Age Education Gender Student Married Ethnicity\n",
              "1 1   14.891 3606  283    2     34  11         Male  No      Yes     Caucasian\n",
              "2 2  106.025 6645  483    3     82  15        Female Yes     Yes     Asian    \n",
              "3 3  104.593 7075  514    4     71  11         Male  No      No      Asian    \n",
              "4 4  148.924 9504  681    3     36  11        Female No      No      Asian    \n",
              "5 5   55.882 4897  357    2     68  16         Male  No      Yes     Caucasian\n",
              "6 6   80.180 8047  569    4     77  10         Male  No      No      Caucasian\n",
              "  Balance\n",
              "1  333   \n",
              "2  903   \n",
              "3  580   \n",
              "4  964   \n",
              "5  331   \n",
              "6 1151   "
            ]
          },
          "metadata": {}
        }
      ],
      "source": [
        "# INSERT CODE HERE\n",
        "head(Credit)"
      ]
    },
    {
      "cell_type": "markdown",
      "metadata": {
        "id": "o85cGNs5f4LX"
      },
      "source": [
        "We can see that we have a nice **tidy** data frame here. Each column is a separate variable and each row is a different observation (in this case, simulated customers).\n",
        "\n",
        "The code below fits a linear model to predict credit card balance from the card limit and the card owner's credit rating, age, gender, and student status. This model is saved as the `cred_lm` model object. The `summary()` function extracts important summary information from the model object so we can interpret the results."
      ]
    },
    {
      "cell_type": "code",
      "execution_count": 5,
      "metadata": {
        "scrolled": false,
        "vscode": {
          "languageId": "r"
        },
        "colab": {
          "base_uri": "https://localhost:8080/",
          "height": 428
        },
        "id": "MWPG8B1ff4LX",
        "outputId": "fcdf4b0f-45ed-4dd9-a245-5a757c603ac6"
      },
      "outputs": [
        {
          "output_type": "display_data",
          "data": {
            "text/plain": [
              "\n",
              "Call:\n",
              "lm(formula = Balance ~ Limit + Rating + Age + Gender + Student, \n",
              "    data = Credit)\n",
              "\n",
              "Residuals:\n",
              "    Min      1Q  Median      3Q     Max \n",
              "-682.49 -127.65    3.92  135.17  453.60 \n",
              "\n",
              "Coefficients:\n",
              "               Estimate Std. Error t value Pr(>|t|)    \n",
              "(Intercept)  -292.49382   48.88704  -5.983 4.92e-09 ***\n",
              "Limit           0.05265    0.05392   0.976 0.329428    \n",
              "Rating          1.80924    0.80462   2.249 0.025092 *  \n",
              "Age            -2.12967    0.57212  -3.722 0.000226 ***\n",
              "GenderFemale   -0.34809   19.63579  -0.018 0.985865    \n",
              "StudentYes    397.16094   32.76189  12.123  < 2e-16 ***\n",
              "---\n",
              "Signif. codes:  0 ‘***’ 0.001 ‘**’ 0.01 ‘*’ 0.05 ‘.’ 0.1 ‘ ’ 1\n",
              "\n",
              "Residual standard error: 195.9 on 394 degrees of freedom\n",
              "Multiple R-squared:  0.8207,\tAdjusted R-squared:  0.8184 \n",
              "F-statistic: 360.6 on 5 and 394 DF,  p-value: < 2.2e-16\n"
            ]
          },
          "metadata": {}
        }
      ],
      "source": [
        "cred_lm  <- lm(Balance ~ Limit + Rating + Age + Gender + Student, Credit)\n",
        "summary(cred_lm)"
      ]
    },
    {
      "cell_type": "markdown",
      "metadata": {
        "id": "LeFa-3d5f4LY"
      },
      "source": [
        "## 2. Replicating `summary` outputs (5 pts)\n",
        "\n",
        "Let's see if we can replicate some of the values included in the `summary()` output.\n",
        "\n",
        "Let's start with the residual standard error, aka sigma. We can see above that this is 195.9 for this model. You can directly extract sigma as follows:"
      ]
    },
    {
      "cell_type": "code",
      "execution_count": 6,
      "metadata": {
        "vscode": {
          "languageId": "r"
        },
        "colab": {
          "base_uri": "https://localhost:8080/",
          "height": 34
        },
        "id": "roANSDydf4LY",
        "outputId": "5d0ad617-2393-447c-ed3e-dad617f64e7d"
      },
      "outputs": [
        {
          "output_type": "display_data",
          "data": {
            "text/html": [
              "195.920637384065"
            ],
            "text/markdown": "195.920637384065",
            "text/latex": "195.920637384065",
            "text/plain": [
              "[1] 195.9206"
            ]
          },
          "metadata": {}
        }
      ],
      "source": [
        "sigma<-sigma(cred_lm)\n",
        "sigma"
      ]
    },
    {
      "cell_type": "markdown",
      "metadata": {
        "id": "v-t3TJUlf4LY"
      },
      "source": [
        "In `lm`, sigma is calculated as\n",
        "\n",
        "$$ \\sqrt{\\frac{SSE}{n-p}} $$\n",
        "\n",
        "Where SSE is the sum of squared errors, `n` is the number of observations, and `p` is the number of parameters estimated (hint: this includes the intercept). So the denominator boils down to the degrees of freedom.\n",
        "\n",
        "Below, use what you've learned about extracting information from model objects to calculate the SSE and extract `n` and `p`.\n",
        "\n",
        "Hint: remember that R is really good at *vectorized operations*, meaning it easily applies the same operation individually to each element of a given vector."
      ]
    },
    {
      "cell_type": "code",
      "execution_count": 13,
      "metadata": {
        "scrolled": true,
        "vscode": {
          "languageId": "r"
        },
        "colab": {
          "base_uri": "https://localhost:8080/",
          "height": 69
        },
        "id": "bzMlOfoFf4LY",
        "outputId": "414ac6c5-0177-4c73-ded1-d9e8a46c3a06"
      },
      "outputs": [
        {
          "output_type": "display_data",
          "data": {
            "text/html": [
              "15123649.0842734"
            ],
            "text/markdown": "15123649.0842734",
            "text/latex": "15123649.0842734",
            "text/plain": [
              "[1] 15123649"
            ]
          },
          "metadata": {}
        },
        {
          "output_type": "display_data",
          "data": {
            "text/html": [
              "400"
            ],
            "text/markdown": "400",
            "text/latex": "400",
            "text/plain": [
              "[1] 400"
            ]
          },
          "metadata": {}
        },
        {
          "output_type": "display_data",
          "data": {
            "text/html": [
              "6"
            ],
            "text/markdown": "6",
            "text/latex": "6",
            "text/plain": [
              "[1] 6"
            ]
          },
          "metadata": {}
        }
      ],
      "source": [
        "# INSERT CODE HERE\n",
        "# Calculate SSE\n",
        "SSE<-sum(residuals(cred_lm)^2)\n",
        "\n",
        "# Extract n\n",
        "n<-nobs(cred_lm)\n",
        "\n",
        "# Extract p\n",
        "p<-length(coef(cred_lm))\n",
        "SSE\n",
        "n\n",
        "p"
      ]
    },
    {
      "cell_type": "markdown",
      "metadata": {
        "id": "gIPlEyW0f4LY"
      },
      "source": [
        "Now, combine your work above to write a function that takes any fitted linear model and returns the residual standard error. Then test your function on the `cred_lm` model object. Compare your answer to sigma extracted directly from the model object."
      ]
    },
    {
      "cell_type": "code",
      "execution_count": 12,
      "metadata": {
        "vscode": {
          "languageId": "r"
        },
        "colab": {
          "base_uri": "https://localhost:8080/",
          "height": 52
        },
        "id": "3mcJUYR6f4LY",
        "outputId": "0e75029d-714c-4fc5-e497-2bad301cb788"
      },
      "outputs": [
        {
          "output_type": "display_data",
          "data": {
            "text/html": [
              "195.920637384065"
            ],
            "text/markdown": "195.920637384065",
            "text/latex": "195.920637384065",
            "text/plain": [
              "[1] 195.9206"
            ]
          },
          "metadata": {}
        },
        {
          "output_type": "display_data",
          "data": {
            "text/html": [
              "TRUE"
            ],
            "text/markdown": "TRUE",
            "text/latex": "TRUE",
            "text/plain": [
              "[1] TRUE"
            ]
          },
          "metadata": {}
        }
      ],
      "source": [
        "# INSERT CODE HERE\n",
        "calculate_sigma <- function(my_mod) {\n",
        "    #get the values\n",
        "    SSE<-sum(residuals(my_mod)^2)\n",
        "    n<-nobs(my_mod)\n",
        "    p<-length(coef(my_mod))\n",
        "    #calculate sigma\n",
        "    cal_sigma<-sqrt(SSE/(n-p))\n",
        "    return(cal_sigma)\n",
        "}"
      ]
    },
    {
      "cell_type": "code",
      "execution_count": null,
      "metadata": {
        "vscode": {
          "languageId": "r"
        },
        "id": "f9vIGiQ-f4LY"
      },
      "outputs": [],
      "source": [
        "# Test and compare results.\n",
        "sigma_hand_calc <- calculate_sigma(cred_lm)\n",
        "sigma_hand_calc\n",
        "sigma==sigma_hand_calc"
      ]
    },
    {
      "cell_type": "markdown",
      "metadata": {
        "id": "AX4B1CxyZXqX"
      },
      "source": [
        "---\n",
        "## 2. Summary table and indexing (4 pts)\n",
        "\n",
        "Let's say we wanted to extract the entire coefficient table provided to us by the `summary()` function above, maybe for use in a publication. You might expect this to be pulled by:"
      ]
    },
    {
      "cell_type": "code",
      "execution_count": 23,
      "metadata": {
        "vscode": {
          "languageId": "r"
        },
        "id": "EcMGsehpf4LY"
      },
      "outputs": [],
      "source": [
        "#cred_lm$coefficients"
      ]
    },
    {
      "cell_type": "markdown",
      "metadata": {
        "id": "Vv15CXlsf4LY"
      },
      "source": [
        "But as we saw in the tutorial, this pulls just the variable name and estimate, and not the standard error, t-statistic, or p-value. You could try to find where all this information is stored in the `cred_lm` object using the `str()` function."
      ]
    },
    {
      "cell_type": "code",
      "execution_count": 24,
      "metadata": {
        "vscode": {
          "languageId": "r"
        },
        "id": "mnDgpw5Jf4LY"
      },
      "outputs": [],
      "source": [
        "#str(cred_lm)"
      ]
    },
    {
      "cell_type": "markdown",
      "metadata": {
        "id": "bhOEHW8zf4LY"
      },
      "source": [
        "But you actually won't find it in there! That's because the information in the coefficient table is a component of `summary()`, not a component of the model object itself. That's right, `summary()` creates it's own object that you can further pull information from.\n",
        "\n",
        "Knowing this, pull the coefficient table from the `summary()` object."
      ]
    },
    {
      "cell_type": "code",
      "execution_count": 20,
      "metadata": {
        "vscode": {
          "languageId": "r"
        },
        "colab": {
          "base_uri": "https://localhost:8080/",
          "height": 255
        },
        "id": "bHLaxwh4f4LY",
        "outputId": "92758f08-4b8d-4271-ac0a-d798fb1455f3"
      },
      "outputs": [
        {
          "output_type": "display_data",
          "data": {
            "text/html": [
              "<table class=\"dataframe\">\n",
              "<caption>A matrix: 6 × 4 of type dbl</caption>\n",
              "<thead>\n",
              "\t<tr><th></th><th scope=col>Estimate</th><th scope=col>Std. Error</th><th scope=col>t value</th><th scope=col>Pr(&gt;|t|)</th></tr>\n",
              "</thead>\n",
              "<tbody>\n",
              "\t<tr><th scope=row>(Intercept)</th><td>-292.49382335</td><td>48.88704367</td><td>-5.98305402</td><td>4.922383e-09</td></tr>\n",
              "\t<tr><th scope=row>Limit</th><td>   0.05265499</td><td> 0.05392354</td><td> 0.97647505</td><td>3.294283e-01</td></tr>\n",
              "\t<tr><th scope=row>Rating</th><td>   1.80924401</td><td> 0.80462003</td><td> 2.24856944</td><td>2.509189e-02</td></tr>\n",
              "\t<tr><th scope=row>Age</th><td>  -2.12966556</td><td> 0.57211502</td><td>-3.72244305</td><td>2.260330e-04</td></tr>\n",
              "\t<tr><th scope=row>GenderFemale</th><td>  -0.34809093</td><td>19.63578922</td><td>-0.01772737</td><td>9.858653e-01</td></tr>\n",
              "\t<tr><th scope=row>StudentYes</th><td> 397.16093911</td><td>32.76189104</td><td>12.12265002</td><td>5.800207e-29</td></tr>\n",
              "</tbody>\n",
              "</table>\n"
            ],
            "text/markdown": "\nA matrix: 6 × 4 of type dbl\n\n| <!--/--> | Estimate | Std. Error | t value | Pr(&gt;|t|) |\n|---|---|---|---|---|\n| (Intercept) | -292.49382335 | 48.88704367 | -5.98305402 | 4.922383e-09 |\n| Limit |    0.05265499 |  0.05392354 |  0.97647505 | 3.294283e-01 |\n| Rating |    1.80924401 |  0.80462003 |  2.24856944 | 2.509189e-02 |\n| Age |   -2.12966556 |  0.57211502 | -3.72244305 | 2.260330e-04 |\n| GenderFemale |   -0.34809093 | 19.63578922 | -0.01772737 | 9.858653e-01 |\n| StudentYes |  397.16093911 | 32.76189104 | 12.12265002 | 5.800207e-29 |\n\n",
            "text/latex": "A matrix: 6 × 4 of type dbl\n\\begin{tabular}{r|llll}\n  & Estimate & Std. Error & t value & Pr(>\\textbar{}t\\textbar{})\\\\\n\\hline\n\t(Intercept) & -292.49382335 & 48.88704367 & -5.98305402 & 4.922383e-09\\\\\n\tLimit &    0.05265499 &  0.05392354 &  0.97647505 & 3.294283e-01\\\\\n\tRating &    1.80924401 &  0.80462003 &  2.24856944 & 2.509189e-02\\\\\n\tAge &   -2.12966556 &  0.57211502 & -3.72244305 & 2.260330e-04\\\\\n\tGenderFemale &   -0.34809093 & 19.63578922 & -0.01772737 & 9.858653e-01\\\\\n\tStudentYes &  397.16093911 & 32.76189104 & 12.12265002 & 5.800207e-29\\\\\n\\end{tabular}\n",
            "text/plain": [
              "             Estimate      Std. Error  t value     Pr(>|t|)    \n",
              "(Intercept)  -292.49382335 48.88704367 -5.98305402 4.922383e-09\n",
              "Limit           0.05265499  0.05392354  0.97647505 3.294283e-01\n",
              "Rating          1.80924401  0.80462003  2.24856944 2.509189e-02\n",
              "Age            -2.12966556  0.57211502 -3.72244305 2.260330e-04\n",
              "GenderFemale   -0.34809093 19.63578922 -0.01772737 9.858653e-01\n",
              "StudentYes    397.16093911 32.76189104 12.12265002 5.800207e-29"
            ]
          },
          "metadata": {}
        }
      ],
      "source": [
        "# INSERT CODE HERE\n",
        "summary(cred_lm)$coefficients"
      ]
    },
    {
      "cell_type": "markdown",
      "metadata": {
        "id": "0s7zlxGef4LZ"
      },
      "source": [
        "Maybe we are not interested in including the t-statistic in our final table. Pull **just** the estimate, SE, and p-value from the `summary()` object."
      ]
    },
    {
      "cell_type": "code",
      "execution_count": 31,
      "metadata": {
        "vscode": {
          "languageId": "r"
        },
        "colab": {
          "base_uri": "https://localhost:8080/",
          "height": 255
        },
        "id": "kPFDVYGef4LZ",
        "outputId": "10fd13fc-9ec2-48e2-b59b-4bcedce82cfd"
      },
      "outputs": [
        {
          "output_type": "display_data",
          "data": {
            "text/html": [
              "<table class=\"dataframe\">\n",
              "<caption>A matrix: 6 × 3 of type dbl</caption>\n",
              "<thead>\n",
              "\t<tr><th></th><th scope=col>Estimate</th><th scope=col>Std. Error</th><th scope=col>Pr(&gt;|t|)</th></tr>\n",
              "</thead>\n",
              "<tbody>\n",
              "\t<tr><th scope=row>(Intercept)</th><td>-292.49382335</td><td>48.88704367</td><td>4.922383e-09</td></tr>\n",
              "\t<tr><th scope=row>Limit</th><td>   0.05265499</td><td> 0.05392354</td><td>3.294283e-01</td></tr>\n",
              "\t<tr><th scope=row>Rating</th><td>   1.80924401</td><td> 0.80462003</td><td>2.509189e-02</td></tr>\n",
              "\t<tr><th scope=row>Age</th><td>  -2.12966556</td><td> 0.57211502</td><td>2.260330e-04</td></tr>\n",
              "\t<tr><th scope=row>GenderFemale</th><td>  -0.34809093</td><td>19.63578922</td><td>9.858653e-01</td></tr>\n",
              "\t<tr><th scope=row>StudentYes</th><td> 397.16093911</td><td>32.76189104</td><td>5.800207e-29</td></tr>\n",
              "</tbody>\n",
              "</table>\n"
            ],
            "text/markdown": "\nA matrix: 6 × 3 of type dbl\n\n| <!--/--> | Estimate | Std. Error | Pr(&gt;|t|) |\n|---|---|---|---|\n| (Intercept) | -292.49382335 | 48.88704367 | 4.922383e-09 |\n| Limit |    0.05265499 |  0.05392354 | 3.294283e-01 |\n| Rating |    1.80924401 |  0.80462003 | 2.509189e-02 |\n| Age |   -2.12966556 |  0.57211502 | 2.260330e-04 |\n| GenderFemale |   -0.34809093 | 19.63578922 | 9.858653e-01 |\n| StudentYes |  397.16093911 | 32.76189104 | 5.800207e-29 |\n\n",
            "text/latex": "A matrix: 6 × 3 of type dbl\n\\begin{tabular}{r|lll}\n  & Estimate & Std. Error & Pr(>\\textbar{}t\\textbar{})\\\\\n\\hline\n\t(Intercept) & -292.49382335 & 48.88704367 & 4.922383e-09\\\\\n\tLimit &    0.05265499 &  0.05392354 & 3.294283e-01\\\\\n\tRating &    1.80924401 &  0.80462003 & 2.509189e-02\\\\\n\tAge &   -2.12966556 &  0.57211502 & 2.260330e-04\\\\\n\tGenderFemale &   -0.34809093 & 19.63578922 & 9.858653e-01\\\\\n\tStudentYes &  397.16093911 & 32.76189104 & 5.800207e-29\\\\\n\\end{tabular}\n",
            "text/plain": [
              "             Estimate      Std. Error  Pr(>|t|)    \n",
              "(Intercept)  -292.49382335 48.88704367 4.922383e-09\n",
              "Limit           0.05265499  0.05392354 3.294283e-01\n",
              "Rating          1.80924401  0.80462003 2.509189e-02\n",
              "Age            -2.12966556  0.57211502 2.260330e-04\n",
              "GenderFemale   -0.34809093 19.63578922 9.858653e-01\n",
              "StudentYes    397.16093911 32.76189104 5.800207e-29"
            ]
          },
          "metadata": {}
        }
      ],
      "source": [
        "# INSERT CODE HERE\n",
        "model_out<-summary(cred_lm)$coefficients\n",
        "removed_values=c(\"t value\")\n",
        "result<-model_out[,!colnames(model_out) %in% removed_values]\n",
        "result"
      ]
    },
    {
      "cell_type": "markdown",
      "metadata": {
        "id": "QHZUVSNHf4LZ"
      },
      "source": [
        "Now, pull the table again but drop the `(Intercept)` term. (Don't save and alter your table above -- practice pulling the same table, minus the intercept term, directly from the summary.)"
      ]
    },
    {
      "cell_type": "code",
      "execution_count": 34,
      "metadata": {
        "vscode": {
          "languageId": "r"
        },
        "colab": {
          "base_uri": "https://localhost:8080/",
          "height": 224
        },
        "id": "-vqB50h5f4LZ",
        "outputId": "7ce621eb-7a92-4c7e-ee01-2e3ed5ab4822"
      },
      "outputs": [
        {
          "output_type": "display_data",
          "data": {
            "text/html": [
              "<table class=\"dataframe\">\n",
              "<caption>A matrix: 5 × 4 of type dbl</caption>\n",
              "<thead>\n",
              "\t<tr><th></th><th scope=col>Estimate</th><th scope=col>Std. Error</th><th scope=col>t value</th><th scope=col>Pr(&gt;|t|)</th></tr>\n",
              "</thead>\n",
              "<tbody>\n",
              "\t<tr><th scope=row>Limit</th><td>  0.05265499</td><td> 0.05392354</td><td> 0.97647505</td><td>3.294283e-01</td></tr>\n",
              "\t<tr><th scope=row>Rating</th><td>  1.80924401</td><td> 0.80462003</td><td> 2.24856944</td><td>2.509189e-02</td></tr>\n",
              "\t<tr><th scope=row>Age</th><td> -2.12966556</td><td> 0.57211502</td><td>-3.72244305</td><td>2.260330e-04</td></tr>\n",
              "\t<tr><th scope=row>GenderFemale</th><td> -0.34809093</td><td>19.63578922</td><td>-0.01772737</td><td>9.858653e-01</td></tr>\n",
              "\t<tr><th scope=row>StudentYes</th><td>397.16093911</td><td>32.76189104</td><td>12.12265002</td><td>5.800207e-29</td></tr>\n",
              "</tbody>\n",
              "</table>\n"
            ],
            "text/markdown": "\nA matrix: 5 × 4 of type dbl\n\n| <!--/--> | Estimate | Std. Error | t value | Pr(&gt;|t|) |\n|---|---|---|---|---|\n| Limit |   0.05265499 |  0.05392354 |  0.97647505 | 3.294283e-01 |\n| Rating |   1.80924401 |  0.80462003 |  2.24856944 | 2.509189e-02 |\n| Age |  -2.12966556 |  0.57211502 | -3.72244305 | 2.260330e-04 |\n| GenderFemale |  -0.34809093 | 19.63578922 | -0.01772737 | 9.858653e-01 |\n| StudentYes | 397.16093911 | 32.76189104 | 12.12265002 | 5.800207e-29 |\n\n",
            "text/latex": "A matrix: 5 × 4 of type dbl\n\\begin{tabular}{r|llll}\n  & Estimate & Std. Error & t value & Pr(>\\textbar{}t\\textbar{})\\\\\n\\hline\n\tLimit &   0.05265499 &  0.05392354 &  0.97647505 & 3.294283e-01\\\\\n\tRating &   1.80924401 &  0.80462003 &  2.24856944 & 2.509189e-02\\\\\n\tAge &  -2.12966556 &  0.57211502 & -3.72244305 & 2.260330e-04\\\\\n\tGenderFemale &  -0.34809093 & 19.63578922 & -0.01772737 & 9.858653e-01\\\\\n\tStudentYes & 397.16093911 & 32.76189104 & 12.12265002 & 5.800207e-29\\\\\n\\end{tabular}\n",
            "text/plain": [
              "             Estimate     Std. Error  t value     Pr(>|t|)    \n",
              "Limit          0.05265499  0.05392354  0.97647505 3.294283e-01\n",
              "Rating         1.80924401  0.80462003  2.24856944 2.509189e-02\n",
              "Age           -2.12966556  0.57211502 -3.72244305 2.260330e-04\n",
              "GenderFemale  -0.34809093 19.63578922 -0.01772737 9.858653e-01\n",
              "StudentYes   397.16093911 32.76189104 12.12265002 5.800207e-29"
            ]
          },
          "metadata": {}
        }
      ],
      "source": [
        "# INSERT CODE HERE\n",
        "model_out<-summary(cred_lm)$coefficients\n",
        "removed_values=c(\"(Intercept)\")\n",
        "result<-model_out[!rownames(model_out)%in% removed_values,]\n",
        "result"
      ]
    },
    {
      "cell_type": "markdown",
      "metadata": {
        "id": "2slWzsoYGuLt"
      },
      "source": [
        "That's all for Exercise 3! When you are finished, save the notebook as Exercise3.ipynb, push it to your class GitHub repository and send the instructors a link to your notebook via Canvas. You can send messages via Canvas by clicking \"Inbox\" on the left and then pressing the icon with a pencil inside a square."
      ]
    },
    {
      "cell_type": "markdown",
      "metadata": {
        "id": "C4MPECMmZXqe"
      },
      "source": [
        "**DUE:** 5pm EST, Feb 7, 2024"
      ]
    },
    {
      "cell_type": "markdown",
      "metadata": {
        "id": "r9GUofXN4BVy"
      },
      "source": [
        "**IMPORTANT** Did you collaborate with anyone on this assignment? If so, list their names here.\n",
        "> I talked to chatgpt about how to extract n. nobs() and all the other extract functions are really useful. I had no idea this existed. I had no idea all of the model extraction functions existed. I have been doing this by hand when I create model output values and vizes."
      ]
    }
  ],
  "metadata": {
    "colab": {
      "provenance": [],
      "include_colab_link": true
    },
    "kernelspec": {
      "display_name": "R",
      "language": "R",
      "name": "ir"
    },
    "language_info": {
      "codemirror_mode": "r",
      "file_extension": ".r",
      "mimetype": "text/x-r-source",
      "name": "R",
      "pygments_lexer": "r",
      "version": "4.2.0"
    }
  },
  "nbformat": 4,
  "nbformat_minor": 0
}