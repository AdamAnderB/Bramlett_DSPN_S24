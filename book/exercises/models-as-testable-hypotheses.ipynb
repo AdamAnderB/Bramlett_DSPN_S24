{
  "cells": [
    {
      "cell_type": "markdown",
      "metadata": {
        "id": "view-in-github",
        "colab_type": "text"
      },
      "source": [
        "<a href=\"https://colab.research.google.com/github/AdamAnderB/Bramlett_DSPN_S24/blob/main/book/exercises/models-as-testable-hypotheses.ipynb\" target=\"_parent\"><img src=\"https://colab.research.google.com/assets/colab-badge.svg\" alt=\"Open In Colab\"/></a>"
      ]
    },
    {
      "cell_type": "markdown",
      "metadata": {
        "id": "E7g5Ts3ofvy8"
      },
      "source": [
        "# Exercise 2: Coding Habits & Functions"
      ]
    },
    {
      "cell_type": "markdown",
      "metadata": {
        "id": "5kDh0Rzvfvy-"
      },
      "source": [
        "This assignment will give you some practice writing your own functions and using the coding best practices discussed in the tutorial.\n",
        "\n",
        "---"
      ]
    },
    {
      "cell_type": "markdown",
      "metadata": {
        "id": "IUT6K8Uqfvy-"
      },
      "source": [
        "## 1. Summary statistics (4 pts)\n",
        "\n",
        "Write a function that takes a vector of numbers `x` and returns the length, mean, and standard deviation of `x` as a new vector.\n",
        "\n",
        "In keeping with our best practices, give the function a short but descriptive name, and use snake case if it involves multiple words.\n",
        "\n",
        "Hint: Vectors are defined in R using the `c()` command."
      ]
    },
    {
      "cell_type": "code",
      "execution_count": 16,
      "metadata": {
        "vscode": {
          "languageId": "r"
        },
        "id": "KjXHw40jfvy-"
      },
      "outputs": [],
      "source": [
        "#Write your function here\n",
        "summary_func <- function(x) {\n",
        "  x=na.omit(x)\n",
        "  len=length(x)\n",
        "  mean_value=mean(x)\n",
        "  sd_value=sd(x)\n",
        "  return(list(length=len,mean=mean_value,sd=sd_value))\n",
        "}"
      ]
    },
    {
      "cell_type": "markdown",
      "metadata": {
        "id": "JGcxUscqfvy_"
      },
      "source": [
        "Calculate the summary statistics of vector `v1`.\n",
        "\n",
        "*Hint*: Note the \"NA\" in the vector. This is short for \"not available\" and is a placeholder for missing values. You'll want to look up the _is.na_ function (and the not operator _!_), as well as options for removing NA's in the functions that you will use to summarize the vector. Look at the documentation for the functions that you will use to see how to work with NA's."
      ]
    },
    {
      "cell_type": "code",
      "execution_count": 20,
      "metadata": {
        "scrolled": false,
        "vscode": {
          "languageId": "r"
        },
        "id": "E0WcVABRfvy_",
        "outputId": "18f6e589-1a94-48de-cfb8-427225ce9478",
        "colab": {
          "base_uri": "https://localhost:8080/",
          "height": 149
        }
      },
      "outputs": [
        {
          "output_type": "display_data",
          "data": {
            "text/html": [
              "<dl>\n",
              "\t<dt>$length</dt>\n",
              "\t\t<dd>4</dd>\n",
              "\t<dt>$mean</dt>\n",
              "\t\t<dd>7.75</dd>\n",
              "\t<dt>$sd</dt>\n",
              "\t\t<dd>2.75378527364305</dd>\n",
              "</dl>\n"
            ],
            "text/markdown": "$length\n:   4\n$mean\n:   7.75\n$sd\n:   2.75378527364305\n\n\n",
            "text/latex": "\\begin{description}\n\\item[\\$length] 4\n\\item[\\$mean] 7.75\n\\item[\\$sd] 2.75378527364305\n\\end{description}\n",
            "text/plain": [
              "$length\n",
              "[1] 4\n",
              "\n",
              "$mean\n",
              "[1] 7.75\n",
              "\n",
              "$sd\n",
              "[1] 2.753785\n"
            ]
          },
          "metadata": {}
        }
      ],
      "source": [
        "v1 <- c(5, 11, 6, NA, 9)\n",
        "summary_func(v1)\n",
        "#your_function_name(v1)\n"
      ]
    },
    {
      "cell_type": "markdown",
      "metadata": {
        "id": "BNMSdR1yfvy_"
      },
      "source": [
        "---\n",
        "## 2. T-test function (4 pts)\n",
        "\n",
        "The formula for a t-test is:"
      ]
    },
    {
      "cell_type": "markdown",
      "metadata": {
        "id": "HpS4TDXlfvy_"
      },
      "source": [
        "$$ \\frac{m- \\mu}{ \\frac{s}{\\sqrt{n}}} $$"
      ]
    },
    {
      "cell_type": "markdown",
      "metadata": {
        "id": "EkhBFQD5fvzA"
      },
      "source": [
        "Where m is the sample mean, $\\mu$ (mu) is the population mean, s is the standard deviation, and n is the sample size.\n",
        "\n",
        "Using your function above as a starting point, write a new function `ttest_fun` that compares a vector `x` to a given population mean `mu` and calculates the t-statistic. Keep the coding best practices in mind.\n",
        "\n",
        "Hint: You will need to add another argument for mu."
      ]
    },
    {
      "cell_type": "code",
      "execution_count": 22,
      "metadata": {
        "vscode": {
          "languageId": "r"
        },
        "id": "9GiDAeELfvzA"
      },
      "outputs": [],
      "source": [
        "# Write ttest_fun here\n",
        "ttest_fun <- function(vec1,y) {\n",
        "  vec_summary=summary_func(vec1)\n",
        "  (vec_summary$mean-y)/(vec_summary$sd/sqrt(vec_summary$length))\n",
        "}"
      ]
    },
    {
      "cell_type": "markdown",
      "metadata": {
        "id": "8uETtlNzfvzA"
      },
      "source": [
        "Use your function to compare the mean of v1 to 10."
      ]
    },
    {
      "cell_type": "code",
      "execution_count": 23,
      "metadata": {
        "vscode": {
          "languageId": "r"
        },
        "id": "aKZRX542fvzA",
        "outputId": "edf84804-4702-411f-d070-32a3ee29f1e2",
        "colab": {
          "base_uri": "https://localhost:8080/",
          "height": 34
        }
      },
      "outputs": [
        {
          "output_type": "display_data",
          "data": {
            "text/html": [
              "-1.63411433820577"
            ],
            "text/markdown": "-1.63411433820577",
            "text/latex": "-1.63411433820577",
            "text/plain": [
              "[1] -1.634114"
            ]
          },
          "metadata": {}
        }
      ],
      "source": [
        "ttest_fun(v1, 10)"
      ]
    },
    {
      "cell_type": "markdown",
      "metadata": {
        "id": "uBTL7V4vfvzA"
      },
      "source": [
        "---\n",
        "## 3. Setting default values (2 pts)\n",
        "\n",
        "Set the default value of mu to 0. Test your modified function below by supplying only `v2` as an argument."
      ]
    },
    {
      "cell_type": "code",
      "execution_count": 27,
      "metadata": {
        "vscode": {
          "languageId": "r"
        },
        "id": "ycfSAPSnfvzA"
      },
      "outputs": [],
      "source": [
        "# Write your modified ttest_fun here\n",
        "ttest_fun <- function(vec1,y=0) {\n",
        "  vec_summary=summary_func(vec1)\n",
        "  (vec_summary$mean-y)/(vec_summary$sd/sqrt(vec_summary$length))\n",
        "}"
      ]
    },
    {
      "cell_type": "code",
      "execution_count": 28,
      "metadata": {
        "vscode": {
          "languageId": "r"
        },
        "id": "zPRF6fR_fvzA",
        "outputId": "7481aa6a-a1a3-42dd-919f-dee4ce7311a2",
        "colab": {
          "base_uri": "https://localhost:8080/",
          "height": 34
        }
      },
      "outputs": [
        {
          "output_type": "display_data",
          "data": {
            "text/html": [
              "3.20594367796912"
            ],
            "text/markdown": "3.20594367796912",
            "text/latex": "3.20594367796912",
            "text/plain": [
              "[1] 3.205944"
            ]
          },
          "metadata": {}
        }
      ],
      "source": [
        "v2 <- c(3, 7, 1, NA, 8, 12)\n",
        "ttest_fun(v2)"
      ]
    },
    {
      "cell_type": "markdown",
      "metadata": {
        "id": "fDUwV7RafvzA"
      },
      "source": [
        "How does your result compare to R's built-in `t.test()` function?"
      ]
    },
    {
      "cell_type": "code",
      "execution_count": 29,
      "metadata": {
        "scrolled": true,
        "vscode": {
          "languageId": "r"
        },
        "id": "mSVWcVdefvzA",
        "outputId": "4d78b7cb-e42c-4172-e049-c63519739fd8",
        "colab": {
          "base_uri": "https://localhost:8080/",
          "height": 213
        }
      },
      "outputs": [
        {
          "output_type": "display_data",
          "data": {
            "text/plain": [
              "\n",
              "\tOne Sample t-test\n",
              "\n",
              "data:  v2\n",
              "t = 3.2059, df = 4, p-value = 0.03272\n",
              "alternative hypothesis: true mean is not equal to 0\n",
              "95 percent confidence interval:\n",
              "  0.8306107 11.5693893\n",
              "sample estimates:\n",
              "mean of x \n",
              "      6.2 \n"
            ]
          },
          "metadata": {}
        }
      ],
      "source": [
        "t.test(v2)\n",
        "# the t statistic appears to be the same. The value from the t.test is rounded\n",
        "#to the 4th decimal and mine is rounded at the ~14th decimal. BUt, other than\n",
        "#this the t stat seems the same. However, the t.test seems to give a lot of\n",
        "#other useful info like the degrees of freedom, CI, and p-value."
      ]
    },
    {
      "cell_type": "markdown",
      "metadata": {
        "id": "2slWzsoYGuLt"
      },
      "source": [
        "When you are finished, save the notebook as Exercise2.ipynb, push it to your class GitHub repository (the one you made for Exercise 1) and send the instructors a link to your notebook via Canvas. You can send messages via Canvas by clicking \"Inbox\" on the left and then pressing the icon with a pencil inside a square."
      ]
    },
    {
      "cell_type": "markdown",
      "metadata": {
        "id": "C4MPECMmZXqe"
      },
      "source": [
        "**DUE:** 5pm EST, Feb 5, 2024"
      ]
    },
    {
      "cell_type": "markdown",
      "metadata": {
        "id": "r9GUofXN4BVy"
      },
      "source": [
        "**IMPORTANT** Did you collaborate with anyone on this assignment? If so, list their names here.\n",
        "> *Someone's Name*\n",
        "I thought it was cool to put one function inside of another function and showed my wife. I also asked chatgpt how to interpret the t-stat on its own and it informed me that I also need to the DF and p-value to understand it."
      ]
    }
  ],
  "metadata": {
    "kernelspec": {
      "display_name": "R",
      "language": "R",
      "name": "ir"
    },
    "language_info": {
      "codemirror_mode": "r",
      "file_extension": ".r",
      "mimetype": "text/x-r-source",
      "name": "R",
      "pygments_lexer": "r",
      "version": "4.2.0"
    },
    "colab": {
      "provenance": [],
      "include_colab_link": true
    }
  },
  "nbformat": 4,
  "nbformat_minor": 0
}