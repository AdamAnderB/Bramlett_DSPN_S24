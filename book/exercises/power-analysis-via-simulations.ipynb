{
  "cells": [
    {
      "cell_type": "markdown",
      "metadata": {
        "id": "view-in-github",
        "colab_type": "text"
      },
      "source": [
        "<a href=\"https://colab.research.google.com/github/AdamAnderB/Bramlett_DSPN_S24/blob/main/book/exercises/power-analysis-via-simulations.ipynb\" target=\"_parent\"><img src=\"https://colab.research.google.com/assets/colab-badge.svg\" alt=\"Open In Colab\"/></a>"
      ]
    },
    {
      "cell_type": "markdown",
      "metadata": {
        "id": "-2W919d2ZXp7"
      },
      "source": [
        "# Exercise 15: Power analyses"
      ]
    },
    {
      "cell_type": "markdown",
      "metadata": {
        "id": "L4nOzVhyZXqK"
      },
      "source": [
        "This  assignment is designed to give you practice with Monte Carlo methods to conduct power analyses via simulation. You won't need to load in any data for this homework. We will, however, be using parts of the homework from last week."
      ]
    },
    {
      "cell_type": "markdown",
      "metadata": {
        "id": "9DsyBTB6ZXqN"
      },
      "source": [
        "---\n",
        "## 1. Simulating data (1 points)\n"
      ]
    },
    {
      "cell_type": "markdown",
      "metadata": {
        "id": "J1f6MywYhyzN"
      },
      "source": [
        "Pull your `simulate_data()` function from your last homework and add it below.\n",
        "\n",
        "As a reminder, this function simulates the relationship between age, word reading experience, and reading comprehension skill.\n",
        "\n",
        "`c` is reading comprehension, and `x` is word reading experience."
      ]
    },
    {
      "cell_type": "code",
      "execution_count": 2,
      "metadata": {
        "id": "UnBVazYfZXqP",
        "vscode": {
          "languageId": "r"
        },
        "outputId": "bba904b4-d0d2-4598-a63d-1589f9672296",
        "colab": {
          "base_uri": "https://localhost:8080/",
          "height": 304
        }
      },
      "outputs": [
        {
          "output_type": "display_data",
          "data": {
            "text/html": [
              "<table class=\"dataframe\">\n",
              "<caption>A data.frame: 6 × 3</caption>\n",
              "<thead>\n",
              "\t<tr><th></th><th scope=col>age</th><th scope=col>reading_ex</th><th scope=col>comprehension</th></tr>\n",
              "\t<tr><th></th><th scope=col>&lt;dbl&gt;</th><th scope=col>&lt;dbl&gt;</th><th scope=col>&lt;dbl&gt;</th></tr>\n",
              "</thead>\n",
              "<tbody>\n",
              "\t<tr><th scope=row>1</th><td>167.1041</td><td> 18.00757</td><td>179.4387</td></tr>\n",
              "\t<tr><th scope=row>2</th><td>139.0855</td><td> 78.71473</td><td>351.3369</td></tr>\n",
              "\t<tr><th scope=row>3</th><td>100.9920</td><td> 50.21623</td><td>394.0022</td></tr>\n",
              "\t<tr><th scope=row>4</th><td>164.5187</td><td> 42.27462</td><td>303.7619</td></tr>\n",
              "\t<tr><th scope=row>5</th><td>110.9981</td><td>108.22190</td><td>604.3042</td></tr>\n",
              "\t<tr><th scope=row>6</th><td>173.0078</td><td>144.27482</td><td>576.5362</td></tr>\n",
              "</tbody>\n",
              "</table>\n"
            ],
            "text/markdown": "\nA data.frame: 6 × 3\n\n| <!--/--> | age &lt;dbl&gt; | reading_ex &lt;dbl&gt; | comprehension &lt;dbl&gt; |\n|---|---|---|---|\n| 1 | 167.1041 |  18.00757 | 179.4387 |\n| 2 | 139.0855 |  78.71473 | 351.3369 |\n| 3 | 100.9920 |  50.21623 | 394.0022 |\n| 4 | 164.5187 |  42.27462 | 303.7619 |\n| 5 | 110.9981 | 108.22190 | 604.3042 |\n| 6 | 173.0078 | 144.27482 | 576.5362 |\n\n",
            "text/latex": "A data.frame: 6 × 3\n\\begin{tabular}{r|lll}\n  & age & reading\\_ex & comprehension\\\\\n  & <dbl> & <dbl> & <dbl>\\\\\n\\hline\n\t1 & 167.1041 &  18.00757 & 179.4387\\\\\n\t2 & 139.0855 &  78.71473 & 351.3369\\\\\n\t3 & 100.9920 &  50.21623 & 394.0022\\\\\n\t4 & 164.5187 &  42.27462 & 303.7619\\\\\n\t5 & 110.9981 & 108.22190 & 604.3042\\\\\n\t6 & 173.0078 & 144.27482 & 576.5362\\\\\n\\end{tabular}\n",
            "text/plain": [
              "  age      reading_ex comprehension\n",
              "1 167.1041  18.00757  179.4387     \n",
              "2 139.0855  78.71473  351.3369     \n",
              "3 100.9920  50.21623  394.0022     \n",
              "4 164.5187  42.27462  303.7619     \n",
              "5 110.9981 108.22190  604.3042     \n",
              "6 173.0078 144.27482  576.5362     "
            ]
          },
          "metadata": {}
        },
        {
          "output_type": "display_data",
          "data": {
            "text/html": [
              "<style>\n",
              ".list-inline {list-style: none; margin:0; padding: 0}\n",
              ".list-inline>li {display: inline-block}\n",
              ".list-inline>li:not(:last-child)::after {content: \"\\00b7\"; padding: 0 .5ex}\n",
              "</style>\n",
              "<ol class=list-inline><li>100</li><li>3</li></ol>\n"
            ],
            "text/markdown": "1. 100\n2. 3\n\n\n",
            "text/latex": "\\begin{enumerate*}\n\\item 100\n\\item 3\n\\end{enumerate*}\n",
            "text/plain": [
              "[1] 100   3"
            ]
          },
          "metadata": {}
        }
      ],
      "source": [
        "sample_size = 100 # How many children in data set?\n",
        "age_lo = 80     # minimum age, in months\n",
        "age_hi = 200    # maximum age, in months\n",
        "beta_xa = 0.5   # amount by which experience changes for increase of one month in age\n",
        "beta_x0 = -5    # amount of experience when age = 0 (not interpretable, since minimum age for this data is 80 months)\n",
        "sd_x = 50       # standard dev of gaussian noise term, epsilon_x\n",
        "beta_ca = 0.8   # amount that comprehension score improves for every increase of one unit in age\n",
        "beta_cx = 3     # amount that comprehension score improves for every increase of one unit in reading experience\n",
        "beta_c0 = 10    # comprehension score when reading experience is 0.\n",
        "sd_c = 85      # standard dev of gaussian noise term, epsilon_c\n",
        "\n",
        "simulate_data <- function(sample_size, age_lo, age_hi, beta_xa,beta_x0, sd_x, beta_ca, beta_cx, beta_c0, sd_c) {\n",
        "        age <- runif(sample_size, age_lo, age_hi)\n",
        "        x <- beta_x0 + beta_xa * age + rnorm(sample_size, mean = 0, sd = sd_x)\n",
        "        c <- beta_c0 + beta_ca * age + beta_cx * x + rnorm(sample_size, mean = 0, sd = sd_c)\n",
        "  data <- data.frame(age = age, reading_ex = x, comprehension = c)\n",
        "\n",
        "}\n",
        "\n",
        "dat <- simulate_data(sample_size, age_lo, age_hi, beta_xa, beta_x0, sd_x, beta_ca, beta_cx, beta_c0, sd_c)\n",
        "head(dat)\n",
        "dim(dat)"
      ]
    },
    {
      "cell_type": "markdown",
      "metadata": {
        "id": "T3b3_KsHk-xD"
      },
      "source": [
        "---\n",
        "## 2. `run_analysis()` function (2 pts)"
      ]
    },
    {
      "cell_type": "markdown",
      "metadata": {
        "id": "TJyPIaTO8zCS"
      },
      "source": [
        "Last week, we looked at whether word reading experience(`x`) mediated the relation between `age` and reading comprehension (`c`).\n",
        "\n",
        "Now we're going to use our `simulate_data()` function to conduct a power analysis. The goal is to determine how many participants we would need in order to detect both the mediated and the direct effects in this data.\n",
        "\n",
        "*Note: We're going to pretend for the sake of simplicity that we don't have any control over the ages of the children we get (so ages are generated using `runif(sample_size, age_lo, age_hi)`, although of course this would be an unusual situation in reality.*\n",
        "\n",
        "First, write a function, `run_analysis()`, that takes in simulated data, runs **your mediation from last week**, and returns a vector containing the ACME and ADE estimates and p-values (these are the `d0`, `d0.p`, `z0`, and `z0.p` features of the mediated model object, e.g., `fitMed$d0.p`). Print this function's output for the data we simulated previously."
      ]
    },
    {
      "cell_type": "code",
      "execution_count": 5,
      "metadata": {
        "id": "AidH_KidrX9L",
        "scrolled": true,
        "vscode": {
          "languageId": "r"
        },
        "outputId": "8bb70d60-418f-45f4-e6fb-60c0fd4adfc5",
        "colab": {
          "base_uri": "https://localhost:8080/",
          "height": 34
        }
      },
      "outputs": [
        {
          "output_type": "display_data",
          "data": {
            "text/html": [
              "<style>\n",
              ".dl-inline {width: auto; margin:0; padding: 0}\n",
              ".dl-inline>dt, .dl-inline>dd {float: none; width: auto; display: inline-block}\n",
              ".dl-inline>dt::after {content: \":\\0020\"; padding-right: .5ex}\n",
              ".dl-inline>dt:not(:first-of-type) {padding-left: .5ex}\n",
              "</style><dl class=dl-inline><dt>ACME</dt><dd>1.8024402012585</dd><dt>ACME_p</dt><dd>0</dd><dt>ADE</dt><dd>0.202900446427894</dd><dt>ADE_p</dt><dd>0.458</dd></dl>\n"
            ],
            "text/markdown": "ACME\n:   1.8024402012585ACME_p\n:   0ADE\n:   0.202900446427894ADE_p\n:   0.458\n\n",
            "text/latex": "\\begin{description*}\n\\item[ACME] 1.8024402012585\n\\item[ACME\\textbackslash{}\\_p] 0\n\\item[ADE] 0.202900446427894\n\\item[ADE\\textbackslash{}\\_p] 0.458\n\\end{description*}\n",
            "text/plain": [
              "     ACME    ACME_p       ADE     ADE_p \n",
              "1.8024402 0.0000000 0.2029004 0.4580000 "
            ]
          },
          "metadata": {}
        }
      ],
      "source": [
        "# WRITE YOUR CODE HERE\n",
        "#install.packages(\"mediation\")\n",
        "library(mediation)\n",
        "run_analysis <- function(data) {\n",
        "  mediator_model <- lm(reading_ex ~ age, data = data)\n",
        "  outcome_model <- lm(comprehension ~ age + reading_ex, data = data)\n",
        "  med_fit <- mediate(mediator_model, outcome_model, treat = \"age\", mediator = \"reading_ex\")\n",
        "  results <- c(ACME = summary(med_fit)$d0, ACME_p = summary(med_fit)$d0.p,\n",
        "               ADE = summary(med_fit)$z0, ADE_p = summary(med_fit)$z0.p)\n",
        "  return(results)\n",
        "}\n",
        "\n",
        "analysis_results <- run_analysis(dat)\n",
        "analysis_results"
      ]
    },
    {
      "cell_type": "markdown",
      "metadata": {
        "id": "bHxz5W2r5s79"
      },
      "source": [
        "---\n",
        "## 3. `repeat_analysis()` function (3 pts)"
      ]
    },
    {
      "cell_type": "markdown",
      "metadata": {
        "id": "G_jvc1XQBCpH"
      },
      "source": [
        "Next fill in the function `repeat_analysis()` below so that it simulates and analyzes data `num_simulations` times. Store the outputs from each simulation in the `simouts` matrix. Calculate and return the coverage across all the simulations run for both ACME and ADE."
      ]
    },
    {
      "cell_type": "code",
      "execution_count": 24,
      "metadata": {
        "id": "NheOpBDsBBo9",
        "vscode": {
          "languageId": "r"
        }
      },
      "outputs": [],
      "source": [
        "repeat_analysis <- function(num_simulations, alpha, sample_size, age_lo, age_hi,\n",
        "        beta_xa, beta_x0, sd_x, beta_ca, beta_cx, beta_c0, sd_c) {\n",
        "    # Initialize simouts matrix for storing each output from run_analysis()\n",
        "    simouts <- matrix(rep(NA, num_simulations * 4), nrow = num_simulations, ncol = 4,\n",
        "                      dimnames = list(NULL, c(\"ACME\", \"ACME_p\", \"ADE\", \"ADE_p\")))\n",
        "\n",
        "    # Start simulating\n",
        "    for (i in 1:num_simulations) {\n",
        "      dat <- simulate_data(sample_size, age_lo, age_hi, beta_xa, beta_x0, sd_x, beta_ca, beta_cx, beta_c0, sd_c)\n",
        "      results <- run_analysis(dat)\n",
        "      simouts[i, ] <- unlist(results)\n",
        "    }\n",
        "\n",
        "    # Calculate coverage for both ACME and ADE estimates using p-values in simouts\n",
        "    ACME_cov = mean(simouts[, \"ACME_p\"] <= alpha)# FILL THIS IN\n",
        "    ADE_cov =  mean(simouts[, \"ADE_p\"] <= alpha)# FILL THIS IN\n",
        "\n",
        "    return(list(ACME_cov = ACME_cov, ADE_cov = ADE_cov))\n",
        "}"
      ]
    },
    {
      "cell_type": "markdown",
      "metadata": {
        "id": "bM5J5pYyQoRL"
      },
      "source": [
        "Now run the `repeat_analysis()` function using the same parameter settings as above, for 10 simulations, with an alpha criterion of 0.01.\n",
        "\n",
        "> Add blockquote\n",
        "\n"
      ]
    },
    {
      "cell_type": "code",
      "execution_count": 25,
      "metadata": {
        "id": "RpURGbZQQlEK",
        "vscode": {
          "languageId": "r"
        },
        "outputId": "1cdf8de0-a9b1-4375-a936-2ae624af43a2",
        "colab": {
          "base_uri": "https://localhost:8080/",
          "height": 114
        }
      },
      "outputs": [
        {
          "output_type": "display_data",
          "data": {
            "text/html": [
              "<dl>\n",
              "\t<dt>$ACME_cov</dt>\n",
              "\t\t<dd>0.9</dd>\n",
              "\t<dt>$ADE_cov</dt>\n",
              "\t\t<dd>0.8</dd>\n",
              "</dl>\n"
            ],
            "text/markdown": "$ACME_cov\n:   0.9\n$ADE_cov\n:   0.8\n\n\n",
            "text/latex": "\\begin{description}\n\\item[\\$ACME\\_cov] 0.9\n\\item[\\$ADE\\_cov] 0.8\n\\end{description}\n",
            "text/plain": [
              "$ACME_cov\n",
              "[1] 0.9\n",
              "\n",
              "$ADE_cov\n",
              "[1] 0.8\n"
            ]
          },
          "metadata": {}
        }
      ],
      "source": [
        "# WRITE YOUR CODE HERE\n",
        "simulation_results <- repeat_analysis(\n",
        "    num_simulations = 10,\n",
        "    alpha = 0.01,\n",
        "    sample_size = 100,\n",
        "    age_lo = age_lo,\n",
        "    age_hi = age_hi,\n",
        "    beta_xa = beta_xa,\n",
        "    beta_x0 = beta_x0,\n",
        "    sd_x = sd_x,\n",
        "    beta_ca = beta_ca,\n",
        "    beta_cx = beta_cx,\n",
        "    beta_c0 = beta_c0,\n",
        "    sd_c = sd_c\n",
        ")\n",
        "\n",
        "simulation_results"
      ]
    },
    {
      "cell_type": "markdown",
      "metadata": {
        "id": "imIoN4w65s7_"
      },
      "source": [
        "---\n",
        "## 4. Testing different sample sizes (2 pts)"
      ]
    },
    {
      "cell_type": "markdown",
      "metadata": {
        "id": "CzeTaoY7SaXv"
      },
      "source": [
        "Finally, do the same thing (10 simulations, alpha criterion of 0.01) but for 5 different sample sizes: 50, 75, 100, 125, 150. You can do this using `map` (as in the tutorial), or a simple `for` loop, or by calculating each individually. Up to you! This should take around 3 minutes to run."
      ]
    },
    {
      "cell_type": "code",
      "execution_count": 26,
      "metadata": {
        "id": "mp-a19XsS8Md",
        "vscode": {
          "languageId": "r"
        },
        "outputId": "f8d6cda6-f804-481c-9c54-f0a2dac7ed68",
        "colab": {
          "base_uri": "https://localhost:8080/",
          "height": 448
        }
      },
      "outputs": [
        {
          "output_type": "display_data",
          "data": {
            "text/html": [
              "<dl>\n",
              "\t<dt>$ACME_cov</dt>\n",
              "\t\t<dd>0.84</dd>\n",
              "\t<dt>$ADE_cov</dt>\n",
              "\t\t<dd>0.66</dd>\n",
              "</dl>\n"
            ],
            "text/markdown": "$ACME_cov\n:   0.84\n$ADE_cov\n:   0.66\n\n\n",
            "text/latex": "\\begin{description}\n\\item[\\$ACME\\_cov] 0.84\n\\item[\\$ADE\\_cov] 0.66\n\\end{description}\n",
            "text/plain": [
              "$ACME_cov\n",
              "[1] 0.84\n",
              "\n",
              "$ADE_cov\n",
              "[1] 0.66\n"
            ]
          },
          "metadata": {}
        },
        {
          "output_type": "display_data",
          "data": {
            "text/html": [
              "<dl>\n",
              "\t<dt>$ACME_cov</dt>\n",
              "\t\t<dd>0.88</dd>\n",
              "\t<dt>$ADE_cov</dt>\n",
              "\t\t<dd>0.72</dd>\n",
              "</dl>\n"
            ],
            "text/markdown": "$ACME_cov\n:   0.88\n$ADE_cov\n:   0.72\n\n\n",
            "text/latex": "\\begin{description}\n\\item[\\$ACME\\_cov] 0.88\n\\item[\\$ADE\\_cov] 0.72\n\\end{description}\n",
            "text/plain": [
              "$ACME_cov\n",
              "[1] 0.88\n",
              "\n",
              "$ADE_cov\n",
              "[1] 0.72\n"
            ]
          },
          "metadata": {}
        },
        {
          "output_type": "display_data",
          "data": {
            "text/html": [
              "<dl>\n",
              "\t<dt>$ACME_cov</dt>\n",
              "\t\t<dd>0.82</dd>\n",
              "\t<dt>$ADE_cov</dt>\n",
              "\t\t<dd>0.69</dd>\n",
              "</dl>\n"
            ],
            "text/markdown": "$ACME_cov\n:   0.82\n$ADE_cov\n:   0.69\n\n\n",
            "text/latex": "\\begin{description}\n\\item[\\$ACME\\_cov] 0.82\n\\item[\\$ADE\\_cov] 0.69\n\\end{description}\n",
            "text/plain": [
              "$ACME_cov\n",
              "[1] 0.82\n",
              "\n",
              "$ADE_cov\n",
              "[1] 0.69\n"
            ]
          },
          "metadata": {}
        },
        {
          "output_type": "display_data",
          "data": {
            "text/html": [
              "<dl>\n",
              "\t<dt>$ACME_cov</dt>\n",
              "\t\t<dd>0.792</dd>\n",
              "\t<dt>$ADE_cov</dt>\n",
              "\t\t<dd>0.712</dd>\n",
              "</dl>\n"
            ],
            "text/markdown": "$ACME_cov\n:   0.792\n$ADE_cov\n:   0.712\n\n\n",
            "text/latex": "\\begin{description}\n\\item[\\$ACME\\_cov] 0.792\n\\item[\\$ADE\\_cov] 0.712\n\\end{description}\n",
            "text/plain": [
              "$ACME_cov\n",
              "[1] 0.792\n",
              "\n",
              "$ADE_cov\n",
              "[1] 0.712\n"
            ]
          },
          "metadata": {}
        },
        {
          "output_type": "display_data",
          "data": {
            "text/html": [
              "<dl>\n",
              "\t<dt>$ACME_cov</dt>\n",
              "\t\t<dd>0.826666666666667</dd>\n",
              "\t<dt>$ADE_cov</dt>\n",
              "\t\t<dd>0.726666666666667</dd>\n",
              "</dl>\n"
            ],
            "text/markdown": "$ACME_cov\n:   0.826666666666667\n$ADE_cov\n:   0.726666666666667\n\n\n",
            "text/latex": "\\begin{description}\n\\item[\\$ACME\\_cov] 0.826666666666667\n\\item[\\$ADE\\_cov] 0.726666666666667\n\\end{description}\n",
            "text/plain": [
              "$ACME_cov\n",
              "[1] 0.8266667\n",
              "\n",
              "$ADE_cov\n",
              "[1] 0.7266667\n"
            ]
          },
          "metadata": {}
        }
      ],
      "source": [
        "# WRITE YOUR CODE HERE\n",
        "simulation_results_50 <- repeat_analysis(\n",
        "    num_simulations = 50,\n",
        "    alpha = 0.01,\n",
        "    sample_size = 100,\n",
        "    age_lo = age_lo,\n",
        "    age_hi = age_hi,\n",
        "    beta_xa = beta_xa,\n",
        "    beta_x0 = beta_x0,\n",
        "    sd_x = sd_x,\n",
        "    beta_ca = beta_ca,\n",
        "    beta_cx = beta_cx,\n",
        "    beta_c0 = beta_c0,\n",
        "    sd_c = sd_c\n",
        ")\n",
        "simulation_results_50\n",
        "\n",
        "simulation_results_75 <- repeat_analysis(\n",
        "    num_simulations = 75,\n",
        "    alpha = 0.01,\n",
        "    sample_size = 100,\n",
        "    age_lo = age_lo,\n",
        "    age_hi = age_hi,\n",
        "    beta_xa = beta_xa,\n",
        "    beta_x0 = beta_x0,\n",
        "    sd_x = sd_x,\n",
        "    beta_ca = beta_ca,\n",
        "    beta_cx = beta_cx,\n",
        "    beta_c0 = beta_c0,\n",
        "    sd_c = sd_c\n",
        ")\n",
        "simulation_results_75\n",
        "\n",
        "simulation_results_100 <- repeat_analysis(\n",
        "    num_simulations = 100,\n",
        "    alpha = 0.01,\n",
        "    sample_size = 100,\n",
        "    age_lo = age_lo,\n",
        "    age_hi = age_hi,\n",
        "    beta_xa = beta_xa,\n",
        "    beta_x0 = beta_x0,\n",
        "    sd_x = sd_x,\n",
        "    beta_ca = beta_ca,\n",
        "    beta_cx = beta_cx,\n",
        "    beta_c0 = beta_c0,\n",
        "    sd_c = sd_c\n",
        ")\n",
        "simulation_results_100\n",
        "\n",
        "simulation_results_125 <- repeat_analysis(\n",
        "    num_simulations = 125,\n",
        "    alpha = 0.01,\n",
        "    sample_size = 100,\n",
        "    age_lo = age_lo,\n",
        "    age_hi = age_hi,\n",
        "    beta_xa = beta_xa,\n",
        "    beta_x0 = beta_x0,\n",
        "    sd_x = sd_x,\n",
        "    beta_ca = beta_ca,\n",
        "    beta_cx = beta_cx,\n",
        "    beta_c0 = beta_c0,\n",
        "    sd_c = sd_c\n",
        ")\n",
        "simulation_results_125\n",
        "\n",
        "simulation_results_150 <- repeat_analysis(\n",
        "    num_simulations = 150,\n",
        "    alpha = 0.01,\n",
        "    sample_size = 100,\n",
        "    age_lo = age_lo,\n",
        "    age_hi = age_hi,\n",
        "    beta_xa = beta_xa,\n",
        "    beta_x0 = beta_x0,\n",
        "    sd_x = sd_x,\n",
        "    beta_ca = beta_ca,\n",
        "    beta_cx = beta_cx,\n",
        "    beta_c0 = beta_c0,\n",
        "    sd_c = sd_c\n",
        ")\n",
        "simulation_results_150"
      ]
    },
    {
      "cell_type": "markdown",
      "metadata": {
        "id": "akJwKCB7dkDw"
      },
      "source": [
        "Print your results."
      ]
    },
    {
      "cell_type": "code",
      "execution_count": 27,
      "metadata": {
        "id": "gIkkWTG2aR4d",
        "scrolled": true,
        "vscode": {
          "languageId": "r"
        },
        "outputId": "7404c7e8-02e6-4101-d97a-28be1ad380d8",
        "colab": {
          "base_uri": "https://localhost:8080/",
          "height": 448
        }
      },
      "outputs": [
        {
          "output_type": "display_data",
          "data": {
            "text/html": [
              "<dl>\n",
              "\t<dt>$ACME_cov</dt>\n",
              "\t\t<dd>0.84</dd>\n",
              "\t<dt>$ADE_cov</dt>\n",
              "\t\t<dd>0.66</dd>\n",
              "</dl>\n"
            ],
            "text/markdown": "$ACME_cov\n:   0.84\n$ADE_cov\n:   0.66\n\n\n",
            "text/latex": "\\begin{description}\n\\item[\\$ACME\\_cov] 0.84\n\\item[\\$ADE\\_cov] 0.66\n\\end{description}\n",
            "text/plain": [
              "$ACME_cov\n",
              "[1] 0.84\n",
              "\n",
              "$ADE_cov\n",
              "[1] 0.66\n"
            ]
          },
          "metadata": {}
        },
        {
          "output_type": "display_data",
          "data": {
            "text/html": [
              "<dl>\n",
              "\t<dt>$ACME_cov</dt>\n",
              "\t\t<dd>0.88</dd>\n",
              "\t<dt>$ADE_cov</dt>\n",
              "\t\t<dd>0.72</dd>\n",
              "</dl>\n"
            ],
            "text/markdown": "$ACME_cov\n:   0.88\n$ADE_cov\n:   0.72\n\n\n",
            "text/latex": "\\begin{description}\n\\item[\\$ACME\\_cov] 0.88\n\\item[\\$ADE\\_cov] 0.72\n\\end{description}\n",
            "text/plain": [
              "$ACME_cov\n",
              "[1] 0.88\n",
              "\n",
              "$ADE_cov\n",
              "[1] 0.72\n"
            ]
          },
          "metadata": {}
        },
        {
          "output_type": "display_data",
          "data": {
            "text/html": [
              "<dl>\n",
              "\t<dt>$ACME_cov</dt>\n",
              "\t\t<dd>0.82</dd>\n",
              "\t<dt>$ADE_cov</dt>\n",
              "\t\t<dd>0.69</dd>\n",
              "</dl>\n"
            ],
            "text/markdown": "$ACME_cov\n:   0.82\n$ADE_cov\n:   0.69\n\n\n",
            "text/latex": "\\begin{description}\n\\item[\\$ACME\\_cov] 0.82\n\\item[\\$ADE\\_cov] 0.69\n\\end{description}\n",
            "text/plain": [
              "$ACME_cov\n",
              "[1] 0.82\n",
              "\n",
              "$ADE_cov\n",
              "[1] 0.69\n"
            ]
          },
          "metadata": {}
        },
        {
          "output_type": "display_data",
          "data": {
            "text/html": [
              "<dl>\n",
              "\t<dt>$ACME_cov</dt>\n",
              "\t\t<dd>0.792</dd>\n",
              "\t<dt>$ADE_cov</dt>\n",
              "\t\t<dd>0.712</dd>\n",
              "</dl>\n"
            ],
            "text/markdown": "$ACME_cov\n:   0.792\n$ADE_cov\n:   0.712\n\n\n",
            "text/latex": "\\begin{description}\n\\item[\\$ACME\\_cov] 0.792\n\\item[\\$ADE\\_cov] 0.712\n\\end{description}\n",
            "text/plain": [
              "$ACME_cov\n",
              "[1] 0.792\n",
              "\n",
              "$ADE_cov\n",
              "[1] 0.712\n"
            ]
          },
          "metadata": {}
        },
        {
          "output_type": "display_data",
          "data": {
            "text/html": [
              "<dl>\n",
              "\t<dt>$ACME_cov</dt>\n",
              "\t\t<dd>0.826666666666667</dd>\n",
              "\t<dt>$ADE_cov</dt>\n",
              "\t\t<dd>0.726666666666667</dd>\n",
              "</dl>\n"
            ],
            "text/markdown": "$ACME_cov\n:   0.826666666666667\n$ADE_cov\n:   0.726666666666667\n\n\n",
            "text/latex": "\\begin{description}\n\\item[\\$ACME\\_cov] 0.826666666666667\n\\item[\\$ADE\\_cov] 0.726666666666667\n\\end{description}\n",
            "text/plain": [
              "$ACME_cov\n",
              "[1] 0.8266667\n",
              "\n",
              "$ADE_cov\n",
              "[1] 0.7266667\n"
            ]
          },
          "metadata": {}
        }
      ],
      "source": [
        "# WRITE YOUR CODE HERE\n",
        "simulation_results_50\n",
        "simulation_results_75\n",
        "simulation_results_100\n",
        "simulation_results_125\n",
        "simulation_results_150"
      ]
    },
    {
      "cell_type": "markdown",
      "metadata": {
        "id": "q3Oo6npB5s8B"
      },
      "source": [
        "## 5. Reflection (2 pts)"
      ]
    },
    {
      "cell_type": "markdown",
      "metadata": {
        "id": "tpbGkul2dr-5"
      },
      "source": [
        "If this were a real power analysis, we'd want to run more simulations per sample size (to get a more precise estimate of power) and we may also want to test out some other values of the parameters we used to simulate our data. However, what would you conclude just based on the results above?\n",
        "\n",
        "> *Write your response here.*\n",
        "> It seems the the mediated effet is stronger than the direct effect. this could also be due to the way that noise was added in the simulation. It seems that power generally increaeses but also fluxautes with more samples. I would want to do larger samples to draw any heavier conclusions. Perhaps around 500."
      ]
    },
    {
      "cell_type": "markdown",
      "metadata": {
        "id": "RcCo3QOifUi5"
      },
      "source": [
        "**Given** how we generated the data, why was the direct effect harder to detect than the mediated effect?\n",
        "> *Write your response here.*"
      ]
    },
    {
      "cell_type": "markdown",
      "metadata": {
        "id": "C4MPECMmZXqe"
      },
      "source": [
        "**DUE:** 5pm EST, April 3, 2024"
      ]
    },
    {
      "cell_type": "markdown",
      "metadata": {
        "id": "r9GUofXN4BVy"
      },
      "source": [
        "**IMPORTANT** Did you collaborate with anyone on this assignment? If so, list their names here.\n",
        "> *Someone's Name*"
      ]
    }
  ],
  "metadata": {
    "colab": {
      "provenance": [],
      "include_colab_link": true
    },
    "kernelspec": {
      "display_name": "R",
      "language": "R",
      "name": "ir"
    },
    "language_info": {
      "codemirror_mode": "r",
      "file_extension": ".r",
      "mimetype": "text/x-r-source",
      "name": "R",
      "pygments_lexer": "r",
      "version": "4.2.0"
    }
  },
  "nbformat": 4,
  "nbformat_minor": 0
}