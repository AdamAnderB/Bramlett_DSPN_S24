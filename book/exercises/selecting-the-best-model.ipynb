{
  "cells": [
    {
      "cell_type": "markdown",
      "metadata": {
        "id": "view-in-github",
        "colab_type": "text"
      },
      "source": [
        "<a href=\"https://colab.research.google.com/github/AdamAnderB/Bramlett_DSPN_S24/blob/main/book/exercises/selecting-the-best-model.ipynb\" target=\"_parent\"><img src=\"https://colab.research.google.com/assets/colab-badge.svg\" alt=\"Open In Colab\"/></a>"
      ]
    },
    {
      "cell_type": "markdown",
      "metadata": {
        "id": "614c6a4a"
      },
      "source": [
        "# Exercise 16: Model selection"
      ],
      "id": "614c6a4a"
    },
    {
      "cell_type": "markdown",
      "metadata": {
        "id": "7e861f62"
      },
      "source": [
        "This homework is designed to give you practice implementing model selection techniques, including best subset selection and forward/backward stepwise selection.\n",
        "\n",
        "You won't need to load in any data for this homework, we will be simulating our own."
      ],
      "id": "7e861f62"
    },
    {
      "cell_type": "markdown",
      "metadata": {
        "id": "b065256e"
      },
      "source": [
        "---\n",
        "## 1. Best subset selection (4 points)"
      ],
      "id": "b065256e"
    },
    {
      "cell_type": "markdown",
      "metadata": {
        "id": "bfe412c5"
      },
      "source": [
        "In this question, we will first generate simulated data, and then use it to perform best subset selection.\n",
        "\n",
        "a) Use `rnorm()` to generate a dataset including a predictor $X$ of length $n = 100$ and a noise vector $\\epsilon$ of length $n = 100$. Generate data for a response variable $Y$ of length $n = 100$ according to the model\n",
        "\n",
        "$Y = \\beta_0 + \\beta_1X + \\beta_2X^2 + \\beta_3X^3 + \\epsilon$\n",
        "\n",
        "where $\\beta_0$, $\\beta_1$, $\\beta_2$, and $\\beta_3$ are constants of your choice.\n"
      ],
      "id": "bfe412c5"
    },
    {
      "cell_type": "code",
      "execution_count": 50,
      "metadata": {
        "id": "82a01047",
        "vscode": {
          "languageId": "r"
        },
        "outputId": "9131db5f-5156-4576-eecb-c9cc50eec917",
        "colab": {
          "base_uri": "https://localhost:8080/",
          "height": 159
        }
      },
      "outputs": [
        {
          "output_type": "display_data",
          "data": {
            "text/html": [
              "<style>\n",
              ".list-inline {list-style: none; margin:0; padding: 0}\n",
              ".list-inline>li {display: inline-block}\n",
              ".list-inline>li:not(:last-child)::after {content: \"\\00b7\"; padding: 0 .5ex}\n",
              "</style>\n",
              "<ol class=list-inline><li>100</li><li>2</li></ol>\n"
            ],
            "text/markdown": "1. 100\n2. 2\n\n\n",
            "text/latex": "\\begin{enumerate*}\n\\item 100\n\\item 2\n\\end{enumerate*}\n",
            "text/plain": [
              "[1] 100   2"
            ]
          },
          "metadata": {}
        },
        {
          "output_type": "display_data",
          "data": {
            "text/plain": [
              "       X                  Y          \n",
              " Min.   :-2.85871   Min.   :-42.139  \n",
              " 1st Qu.:-0.69358   1st Qu.: -0.104  \n",
              " Median : 0.09041   Median :  3.928  \n",
              " Mean   :-0.03268   Mean   :  1.140  \n",
              " 3rd Qu.: 0.65341   3rd Qu.:  5.595  \n",
              " Max.   : 3.03094   Max.   : 22.368  "
            ]
          },
          "metadata": {}
        }
      ],
      "source": [
        "# WRITE YOUR CODE HERE\n",
        "n <- 100\n",
        "beta_0 <- 4\n",
        "beta_1 <- 3\n",
        "beta_2 <- -2\n",
        "beta_3 <- 1\n",
        "sd_epsilon <- 1\n",
        "\n",
        "X <- rnorm(n, mean = 0, sd = 1)\n",
        "epsilon <- rnorm(n, mean = 0, sd = sd_epsilon)\n",
        "Y <- beta_0 + beta_1 * X + beta_2 * X^2 + beta_3 * X^3 + epsilon\n",
        "\n",
        "data <- data.frame(X = X, Y = Y)\n",
        "dim(data)\n",
        "summary(data)"
      ],
      "id": "82a01047"
    },
    {
      "cell_type": "markdown",
      "metadata": {
        "id": "19065c60"
      },
      "source": [
        "b) Use `regsubsets()` to perform best subset selection to determine the best model that contains the predictor variables $X$, $X^2$, . . . , $X^{10}$. Print the model summary."
      ],
      "id": "19065c60"
    },
    {
      "cell_type": "code",
      "source": [
        "for (i in 2:10) {\n",
        "  data[[paste0(\"X\", i)]] <- X^i\n",
        "}\n",
        "dim(data)\n",
        "summary(data)"
      ],
      "metadata": {
        "id": "FLhPSL-mdX8d",
        "outputId": "94176484-52c2-4299-86ab-889cbbac2611",
        "colab": {
          "base_uri": "https://localhost:8080/",
          "height": 534
        }
      },
      "id": "FLhPSL-mdX8d",
      "execution_count": 51,
      "outputs": [
        {
          "output_type": "display_data",
          "data": {
            "text/html": [
              "<style>\n",
              ".list-inline {list-style: none; margin:0; padding: 0}\n",
              ".list-inline>li {display: inline-block}\n",
              ".list-inline>li:not(:last-child)::after {content: \"\\00b7\"; padding: 0 .5ex}\n",
              "</style>\n",
              "<ol class=list-inline><li>100</li><li>11</li></ol>\n"
            ],
            "text/markdown": "1. 100\n2. 11\n\n\n",
            "text/latex": "\\begin{enumerate*}\n\\item 100\n\\item 11\n\\end{enumerate*}\n",
            "text/plain": [
              "[1] 100  11"
            ]
          },
          "metadata": {}
        },
        {
          "output_type": "display_data",
          "data": {
            "text/plain": [
              "       X                  Y                 X2                 X3            \n",
              " Min.   :-2.85871   Min.   :-42.139   Min.   :0.001235   Min.   :-23.361964  \n",
              " 1st Qu.:-0.69358   1st Qu.: -0.104   1st Qu.:0.180974   1st Qu.: -0.333762  \n",
              " Median : 0.09041   Median :  3.928   Median :0.435530   Median :  0.000753  \n",
              " Mean   :-0.03268   Mean   :  1.140   Mean   :1.166397   Mean   : -0.280219  \n",
              " 3rd Qu.: 0.65341   3rd Qu.:  5.595   3rd Qu.:1.580859   3rd Qu.:  0.278981  \n",
              " Max.   : 3.03094   Max.   : 22.368   Max.   :9.186613   Max.   : 27.844096  \n",
              "       X4                 X5                   X6          \n",
              " Min.   : 0.00000   Min.   :-190.91890   Min.   :  0.0000  \n",
              " 1st Qu.: 0.03279   1st Qu.:  -0.16069   1st Qu.:  0.0059  \n",
              " Median : 0.18969   Median :   0.00001   Median :  0.0826  \n",
              " Mean   : 4.14060   Mean   :  -1.13499   Mean   : 23.0814  \n",
              " 3rd Qu.: 2.50046   3rd Qu.:   0.11912   3rd Qu.:  3.9572  \n",
              " Max.   :84.39386   Max.   : 255.79293   Max.   :775.2937  \n",
              "       X7                   X8                 X9            \n",
              " Min.   :-1560.2295   Min.   :   0.000   Min.   :-12750.524  \n",
              " 1st Qu.:   -0.0774   1st Qu.:   0.001   1st Qu.:    -0.037  \n",
              " Median :    0.0000   Median :   0.036   Median :     0.000  \n",
              " Mean   :   -1.6085   Mean   : 159.112   Mean   :    37.554  \n",
              " 3rd Qu.:    0.0509   3rd Qu.:   6.266   3rd Qu.:     0.022  \n",
              " Max.   : 2349.8707   Max.   :7122.323   Max.   : 21587.352  \n",
              "      X10          \n",
              " Min.   :    0.00  \n",
              " 1st Qu.:    0.00  \n",
              " Median :    0.02  \n",
              " Mean   : 1224.44  \n",
              " 3rd Qu.:    9.93  \n",
              " Max.   :65430.03  "
            ]
          },
          "metadata": {}
        }
      ]
    },
    {
      "cell_type": "code",
      "execution_count": 60,
      "metadata": {
        "id": "2d0ea51f",
        "vscode": {
          "languageId": "r"
        },
        "outputId": "aaaef646-7bed-4959-8d20-4cf5407cea1a",
        "colab": {
          "base_uri": "https://localhost:8080/",
          "height": 863
        }
      },
      "outputs": [
        {
          "output_type": "display_data",
          "data": {
            "text/plain": [
              "Subset selection object\n",
              "Call: regsubsets.formula(Y ~ ., data = data, nbest = 1, nvmax = 10)\n",
              "10 Variables  (and intercept)\n",
              "    Forced in Forced out\n",
              "X       FALSE      FALSE\n",
              "X2      FALSE      FALSE\n",
              "X3      FALSE      FALSE\n",
              "X4      FALSE      FALSE\n",
              "X5      FALSE      FALSE\n",
              "X6      FALSE      FALSE\n",
              "X7      FALSE      FALSE\n",
              "X8      FALSE      FALSE\n",
              "X9      FALSE      FALSE\n",
              "X10     FALSE      FALSE\n",
              "1 subsets of each size up to 10\n",
              "Selection Algorithm: exhaustive\n",
              "          X   X2  X3  X4  X5  X6  X7  X8  X9  X10\n",
              "1  ( 1 )  \" \" \" \" \"*\" \" \" \" \" \" \" \" \" \" \" \" \" \" \"\n",
              "2  ( 1 )  \" \" \"*\" \"*\" \" \" \" \" \" \" \" \" \" \" \" \" \" \"\n",
              "3  ( 1 )  \"*\" \"*\" \"*\" \" \" \" \" \" \" \" \" \" \" \" \" \" \"\n",
              "4  ( 1 )  \"*\" \"*\" \"*\" \" \" \" \" \" \" \" \" \" \" \" \" \"*\"\n",
              "5  ( 1 )  \"*\" \"*\" \" \" \" \" \"*\" \" \" \"*\" \" \" \"*\" \" \"\n",
              "6  ( 1 )  \"*\" \"*\" \" \" \" \" \"*\" \" \" \"*\" \" \" \"*\" \"*\"\n",
              "7  ( 1 )  \"*\" \"*\" \"*\" \" \" \" \" \"*\" \" \" \"*\" \"*\" \"*\"\n",
              "8  ( 1 )  \"*\" \"*\" \" \" \" \" \"*\" \"*\" \"*\" \"*\" \"*\" \"*\"\n",
              "9  ( 1 )  \"*\" \"*\" \" \" \"*\" \"*\" \"*\" \"*\" \"*\" \"*\" \"*\"\n",
              "10  ( 1 ) \"*\" \"*\" \"*\" \"*\" \"*\" \"*\" \"*\" \"*\" \"*\" \"*\""
            ]
          },
          "metadata": {}
        },
        {
          "output_type": "display_data",
          "data": {
            "text/html": [
              "<table class=\"dataframe\">\n",
              "<caption>A matrix: 10 × 11 of type lgl</caption>\n",
              "<thead>\n",
              "\t<tr><th></th><th scope=col>(Intercept)</th><th scope=col>X</th><th scope=col>X2</th><th scope=col>X3</th><th scope=col>X4</th><th scope=col>X5</th><th scope=col>X6</th><th scope=col>X7</th><th scope=col>X8</th><th scope=col>X9</th><th scope=col>X10</th></tr>\n",
              "</thead>\n",
              "<tbody>\n",
              "\t<tr><th scope=row>1</th><td>TRUE</td><td>FALSE</td><td>FALSE</td><td> TRUE</td><td>FALSE</td><td>FALSE</td><td>FALSE</td><td>FALSE</td><td>FALSE</td><td>FALSE</td><td>FALSE</td></tr>\n",
              "\t<tr><th scope=row>2</th><td>TRUE</td><td>FALSE</td><td> TRUE</td><td> TRUE</td><td>FALSE</td><td>FALSE</td><td>FALSE</td><td>FALSE</td><td>FALSE</td><td>FALSE</td><td>FALSE</td></tr>\n",
              "\t<tr><th scope=row>3</th><td>TRUE</td><td> TRUE</td><td> TRUE</td><td> TRUE</td><td>FALSE</td><td>FALSE</td><td>FALSE</td><td>FALSE</td><td>FALSE</td><td>FALSE</td><td>FALSE</td></tr>\n",
              "\t<tr><th scope=row>4</th><td>TRUE</td><td> TRUE</td><td> TRUE</td><td> TRUE</td><td>FALSE</td><td>FALSE</td><td>FALSE</td><td>FALSE</td><td>FALSE</td><td>FALSE</td><td> TRUE</td></tr>\n",
              "\t<tr><th scope=row>5</th><td>TRUE</td><td> TRUE</td><td> TRUE</td><td>FALSE</td><td>FALSE</td><td> TRUE</td><td>FALSE</td><td> TRUE</td><td>FALSE</td><td> TRUE</td><td>FALSE</td></tr>\n",
              "\t<tr><th scope=row>6</th><td>TRUE</td><td> TRUE</td><td> TRUE</td><td>FALSE</td><td>FALSE</td><td> TRUE</td><td>FALSE</td><td> TRUE</td><td>FALSE</td><td> TRUE</td><td> TRUE</td></tr>\n",
              "\t<tr><th scope=row>7</th><td>TRUE</td><td> TRUE</td><td> TRUE</td><td> TRUE</td><td>FALSE</td><td>FALSE</td><td> TRUE</td><td>FALSE</td><td> TRUE</td><td> TRUE</td><td> TRUE</td></tr>\n",
              "\t<tr><th scope=row>8</th><td>TRUE</td><td> TRUE</td><td> TRUE</td><td>FALSE</td><td>FALSE</td><td> TRUE</td><td> TRUE</td><td> TRUE</td><td> TRUE</td><td> TRUE</td><td> TRUE</td></tr>\n",
              "\t<tr><th scope=row>9</th><td>TRUE</td><td> TRUE</td><td> TRUE</td><td>FALSE</td><td> TRUE</td><td> TRUE</td><td> TRUE</td><td> TRUE</td><td> TRUE</td><td> TRUE</td><td> TRUE</td></tr>\n",
              "\t<tr><th scope=row>10</th><td>TRUE</td><td> TRUE</td><td> TRUE</td><td> TRUE</td><td> TRUE</td><td> TRUE</td><td> TRUE</td><td> TRUE</td><td> TRUE</td><td> TRUE</td><td> TRUE</td></tr>\n",
              "</tbody>\n",
              "</table>\n"
            ],
            "text/markdown": "\nA matrix: 10 × 11 of type lgl\n\n| <!--/--> | (Intercept) | X | X2 | X3 | X4 | X5 | X6 | X7 | X8 | X9 | X10 |\n|---|---|---|---|---|---|---|---|---|---|---|---|\n| 1 | TRUE | FALSE | FALSE |  TRUE | FALSE | FALSE | FALSE | FALSE | FALSE | FALSE | FALSE |\n| 2 | TRUE | FALSE |  TRUE |  TRUE | FALSE | FALSE | FALSE | FALSE | FALSE | FALSE | FALSE |\n| 3 | TRUE |  TRUE |  TRUE |  TRUE | FALSE | FALSE | FALSE | FALSE | FALSE | FALSE | FALSE |\n| 4 | TRUE |  TRUE |  TRUE |  TRUE | FALSE | FALSE | FALSE | FALSE | FALSE | FALSE |  TRUE |\n| 5 | TRUE |  TRUE |  TRUE | FALSE | FALSE |  TRUE | FALSE |  TRUE | FALSE |  TRUE | FALSE |\n| 6 | TRUE |  TRUE |  TRUE | FALSE | FALSE |  TRUE | FALSE |  TRUE | FALSE |  TRUE |  TRUE |\n| 7 | TRUE |  TRUE |  TRUE |  TRUE | FALSE | FALSE |  TRUE | FALSE |  TRUE |  TRUE |  TRUE |\n| 8 | TRUE |  TRUE |  TRUE | FALSE | FALSE |  TRUE |  TRUE |  TRUE |  TRUE |  TRUE |  TRUE |\n| 9 | TRUE |  TRUE |  TRUE | FALSE |  TRUE |  TRUE |  TRUE |  TRUE |  TRUE |  TRUE |  TRUE |\n| 10 | TRUE |  TRUE |  TRUE |  TRUE |  TRUE |  TRUE |  TRUE |  TRUE |  TRUE |  TRUE |  TRUE |\n\n",
            "text/latex": "A matrix: 10 × 11 of type lgl\n\\begin{tabular}{r|lllllllllll}\n  & (Intercept) & X & X2 & X3 & X4 & X5 & X6 & X7 & X8 & X9 & X10\\\\\n\\hline\n\t1 & TRUE & FALSE & FALSE &  TRUE & FALSE & FALSE & FALSE & FALSE & FALSE & FALSE & FALSE\\\\\n\t2 & TRUE & FALSE &  TRUE &  TRUE & FALSE & FALSE & FALSE & FALSE & FALSE & FALSE & FALSE\\\\\n\t3 & TRUE &  TRUE &  TRUE &  TRUE & FALSE & FALSE & FALSE & FALSE & FALSE & FALSE & FALSE\\\\\n\t4 & TRUE &  TRUE &  TRUE &  TRUE & FALSE & FALSE & FALSE & FALSE & FALSE & FALSE &  TRUE\\\\\n\t5 & TRUE &  TRUE &  TRUE & FALSE & FALSE &  TRUE & FALSE &  TRUE & FALSE &  TRUE & FALSE\\\\\n\t6 & TRUE &  TRUE &  TRUE & FALSE & FALSE &  TRUE & FALSE &  TRUE & FALSE &  TRUE &  TRUE\\\\\n\t7 & TRUE &  TRUE &  TRUE &  TRUE & FALSE & FALSE &  TRUE & FALSE &  TRUE &  TRUE &  TRUE\\\\\n\t8 & TRUE &  TRUE &  TRUE & FALSE & FALSE &  TRUE &  TRUE &  TRUE &  TRUE &  TRUE &  TRUE\\\\\n\t9 & TRUE &  TRUE &  TRUE & FALSE &  TRUE &  TRUE &  TRUE &  TRUE &  TRUE &  TRUE &  TRUE\\\\\n\t10 & TRUE &  TRUE &  TRUE &  TRUE &  TRUE &  TRUE &  TRUE &  TRUE &  TRUE &  TRUE &  TRUE\\\\\n\\end{tabular}\n",
            "text/plain": [
              "   (Intercept) X     X2    X3    X4    X5    X6    X7    X8    X9    X10  \n",
              "1  TRUE        FALSE FALSE  TRUE FALSE FALSE FALSE FALSE FALSE FALSE FALSE\n",
              "2  TRUE        FALSE  TRUE  TRUE FALSE FALSE FALSE FALSE FALSE FALSE FALSE\n",
              "3  TRUE         TRUE  TRUE  TRUE FALSE FALSE FALSE FALSE FALSE FALSE FALSE\n",
              "4  TRUE         TRUE  TRUE  TRUE FALSE FALSE FALSE FALSE FALSE FALSE  TRUE\n",
              "5  TRUE         TRUE  TRUE FALSE FALSE  TRUE FALSE  TRUE FALSE  TRUE FALSE\n",
              "6  TRUE         TRUE  TRUE FALSE FALSE  TRUE FALSE  TRUE FALSE  TRUE  TRUE\n",
              "7  TRUE         TRUE  TRUE  TRUE FALSE FALSE  TRUE FALSE  TRUE  TRUE  TRUE\n",
              "8  TRUE         TRUE  TRUE FALSE FALSE  TRUE  TRUE  TRUE  TRUE  TRUE  TRUE\n",
              "9  TRUE         TRUE  TRUE FALSE  TRUE  TRUE  TRUE  TRUE  TRUE  TRUE  TRUE\n",
              "10 TRUE         TRUE  TRUE  TRUE  TRUE  TRUE  TRUE  TRUE  TRUE  TRUE  TRUE"
            ]
          },
          "metadata": {}
        }
      ],
      "source": [
        "# WRITE YOUR CODE HERE\n",
        "#install.packages(\"leaps\")\n",
        "library(leaps)\n",
        "subset_fit <- regsubsets(Y ~ ., data = data, nbest = 1, nvmax = 10)\n",
        "subset_summary <- summary(subset_fit)\n",
        "subset_summary\n",
        "subset_summary$which\n"
      ],
      "id": "2d0ea51f"
    },
    {
      "cell_type": "code",
      "execution_count": 40,
      "metadata": {
        "id": "e584b852",
        "vscode": {
          "languageId": "r"
        },
        "outputId": "2035f81d-c349-4901-df56-bcf28a897b1d",
        "colab": {
          "base_uri": "https://localhost:8080/",
          "height": 73
        }
      },
      "outputs": [
        {
          "output_type": "error",
          "ename": "ERROR",
          "evalue": "Error in parse(text = x, srcfile = src): attempt to use zero-length variable name\n",
          "traceback": [
            "Error in parse(text = x, srcfile = src): attempt to use zero-length variable name\nTraceback:\n"
          ]
        }
      ],
      "source": [
        "# Note: if your model summary doesn't show up when viewing your notebook on github, copy and paste the output below.\n",
        "# Otherwise you can either delete this cell or leave it blank.\n",
        "\n",
        "```\n",
        "# paste here\n",
        "#Subset selection object\n",
        "#Call: regsubsets.formula(Y ~ ., data = data, nbest = 1, nvmax = 10,\n",
        "#    really.big = TRUE)\n",
        "#10 Variables  (and intercept)\n",
        "#    Forced in Forced out\n",
        "#X       FALSE      FALSE\n",
        "#X2      FALSE      FALSE\n",
        "#X3      FALSE      FALSE\n",
        "#X4      FALSE      FALSE\n",
        "#X5      FALSE      FALSE\n",
        "#X6      FALSE      FALSE\n",
        "#X7      FALSE      FALSE\n",
        "#X8      FALSE      FALSE\n",
        "#X9      FALSE      FALSE\n",
        "#X10     FALSE      FALSE\n",
        "#1 subsets of each size up to 10\n",
        "#Selection Algorithm: exhaustive\n",
        "#          X   X2  X3  X4  X5  X6  X7  X8  X9  X10\n",
        "#1  ( 1 )  \" \" \" \" \"*\" \" \" \" \" \" \" \" \" \" \" \" \" \" \"\n",
        "#2  ( 1 )  \"*\" \" \" \" \" \" \" \" \" \" \" \" \" \" \" \" \" \"*\"\n",
        "#3  ( 1 )  \"*\" \"*\" \"*\" \" \" \" \" \" \" \" \" \" \" \" \" \" \"\n",
        "#4  ( 1 )  \"*\" \"*\" \"*\" \"*\" \" \" \" \" \" \" \" \" \" \" \" \"\n",
        "#5  ( 1 )  \"*\" \"*\" \"*\" \"*\" \" \" \"*\" \" \" \" \" \" \" \" \"\n",
        "#6  ( 1 )  \"*\" \"*\" \"*\" \"*\" \" \" \" \" \" \" \" \" \"*\" \"*\"\n",
        "#7  ( 1 )  \"*\" \" \" \"*\" \"*\" \" \" \"*\" \" \" \"*\" \"*\" \"*\"\n",
        "#8  ( 1 )  \"*\" \"*\" \"*\" \"*\" \" \" \"*\" \" \" \"*\" \"*\" \"*\"\n",
        "#9  ( 1 )  \"*\" \"*\" \"*\" \"*\" \"*\" \"*\" \"*\" \"*\" \" \" \"*\"\n",
        "#10  ( 1 ) \"*\" \"*\" \"*\" \"*\" \"*\" \"*\" \"*\" \"*\" \"*\" \"*\"\n",
        "```"
      ],
      "id": "e584b852"
    },
    {
      "cell_type": "markdown",
      "source": [],
      "metadata": {
        "id": "3asGqbAOgBD_"
      },
      "id": "3asGqbAOgBD_"
    },
    {
      "cell_type": "markdown",
      "metadata": {
        "id": "3528231b"
      },
      "source": [
        "c) Plot the Mallows' Cp, Bayesian Information Criteria (BIC) and the adjusted coefficient of determination, $R^2$, for each model tested. Which is the best model? Report the coefficients of the best model."
      ],
      "id": "3528231b"
    },
    {
      "cell_type": "code",
      "execution_count": 53,
      "metadata": {
        "id": "6a817913",
        "vscode": {
          "languageId": "r"
        },
        "outputId": "5db9a687-e871-4745-d138-e520fcf44f93",
        "colab": {
          "base_uri": "https://localhost:8080/",
          "height": 437
        }
      },
      "outputs": [
        {
          "output_type": "display_data",
          "data": {
            "text/plain": [
              "plot without title"
            ],
            "image/png": "[encoded data removed]"
          },
          "metadata": {
            "image/png": {
              "width": 420,
              "height": 420
            }
          }
        }
      ],
      "source": [
        "# WRITE YOUR CODE HERE\n",
        "library(tidyverse)\n",
        "\n",
        "results_df <- data.frame(\n",
        "  model_size= 1:10,\n",
        "  cp = subset_summary$cp,\n",
        "  bic = subset_summary$bic,\n",
        "  adj_r2 = subset_summary$adjr2\n",
        ")\n",
        "\n",
        "results_melted <- pivot_longer(results_df, cols = -model_size, names_to = \"criterion\", values_to = \"value\")\n",
        "\n",
        "ggplot(data = results_melted, aes(x = model_size, y = value, color = criterion))+\n",
        "  geom_line()+\n",
        "  geom_point()+\n",
        "  facet_wrap(~criterion, scales = \"free_y\")+\n",
        "  theme_minimal()+\n",
        "  labs(x = \"Num vars\",\n",
        "       y = \"Criterion Value\")\n"
      ],
      "id": "6a817913"
    },
    {
      "cell_type": "markdown",
      "metadata": {
        "id": "e7f16d76"
      },
      "source": [
        "> *Write your response here*\n",
        ">"
      ],
      "id": "e7f16d76"
    },
    {
      "cell_type": "markdown",
      "metadata": {
        "id": "19d388b0"
      },
      "source": [
        "---\n",
        "## 2. Forward and backwards stepwise selection (3 points)"
      ],
      "id": "19d388b0"
    },
    {
      "cell_type": "markdown",
      "metadata": {
        "id": "620dc14c"
      },
      "source": [
        "Using the same simulated data from question 1, use forward stepwise selection, and backwards stepwise selections to determine the best model. Again, for both model selection methods, plot the Mallows' Cp, Bayesian Information Criteria (BIC) and the adjusted coefficient of determination, $R^2$, for each model tested. Report the coefficients of the best model."
      ],
      "id": "620dc14c"
    },
    {
      "cell_type": "markdown",
      "metadata": {
        "id": "d734954e"
      },
      "source": [
        "a) Forward stepwise selection:"
      ],
      "id": "d734954e"
    },
    {
      "cell_type": "code",
      "execution_count": 54,
      "metadata": {
        "id": "8018ba62",
        "vscode": {
          "languageId": "r"
        },
        "outputId": "626d3131-20bd-41a3-f97d-815e79902df9",
        "colab": {
          "base_uri": "https://localhost:8080/",
          "height": 410
        }
      },
      "outputs": [
        {
          "output_type": "stream",
          "name": "stdout",
          "text": [
            "[1] \"forward model\"\n"
          ]
        },
        {
          "output_type": "display_data",
          "data": {
            "text/plain": [
              "\n",
              "Call:\n",
              "lm(formula = Y ~ X3 + X2 + X + X10, data = data)\n",
              "\n",
              "Residuals:\n",
              "     Min       1Q   Median       3Q      Max \n",
              "-1.89898 -0.64215  0.03297  0.58398  2.28186 \n",
              "\n",
              "Coefficients:\n",
              "              Estimate Std. Error t value Pr(>|t|)    \n",
              "(Intercept)  3.856e+00  1.227e-01   31.43   <2e-16 ***\n",
              "X3           9.242e-01  3.502e-02   26.39   <2e-16 ***\n",
              "X2          -2.045e+00  8.383e-02  -24.40   <2e-16 ***\n",
              "X            3.281e+00  1.457e-01   22.52   <2e-16 ***\n",
              "X10          2.883e-05  1.948e-05    1.48    0.142    \n",
              "---\n",
              "Signif. codes:  0 ‘***’ 0.001 ‘**’ 0.01 ‘*’ 0.05 ‘.’ 0.1 ‘ ’ 1\n",
              "\n",
              "Residual standard error: 0.9312 on 95 degrees of freedom\n",
              "Multiple R-squared:  0.9891,\tAdjusted R-squared:  0.9887 \n",
              "F-statistic:  2157 on 4 and 95 DF,  p-value: < 2.2e-16\n"
            ]
          },
          "metadata": {}
        }
      ],
      "source": [
        "# WRITE YOUR CODE HERE\n",
        "library(MASS)\n",
        "full_model <- lm(Y ~ ., data = data)\n",
        "null_model <- lm(Y ~ 1, data = data)\n",
        "forward_model <- stepAIC(null_model, scope = list(lower = null_model, upper = full_model),\n",
        "                         direction = \"forward\", trace = FALSE)\n",
        "\n",
        "backward_model <- stepAIC(full_model, direction = \"backward\", trace = FALSE)\n",
        "\n",
        "print(\"forward model\")\n",
        "summary(forward_model)\n"
      ],
      "id": "8018ba62"
    },
    {
      "cell_type": "code",
      "execution_count": 43,
      "metadata": {
        "id": "861cedcd",
        "vscode": {
          "languageId": "r"
        },
        "outputId": "a7e6b74a-18d9-428c-d018-f633f6f6f1da",
        "colab": {
          "base_uri": "https://localhost:8080/",
          "height": 73
        }
      },
      "outputs": [
        {
          "output_type": "error",
          "ename": "ERROR",
          "evalue": "Error in parse(text = x, srcfile = src): attempt to use zero-length variable name\n",
          "traceback": [
            "Error in parse(text = x, srcfile = src): attempt to use zero-length variable name\nTraceback:\n"
          ]
        }
      ],
      "source": [
        "# Note: if your model summary doesn't show up when viewing your notebook on github, copy and paste the output below.\n",
        "# Otherwise you can either delete this cell or leave it blank.\n",
        "\n",
        "```\n",
        "# paste here\n",
        "#[1] \"forward model\"\n",
        "#\n",
        "#Call:\n",
        "#lm(formula = Y ~ X3 + X2 + X + X4, data = data)\n",
        "#\n",
        "#Residuals:\n",
        "#     Min       1Q   Median       3Q      Max\n",
        "#-1.92308 -0.66625  0.07364  0.50067  1.84487\n",
        "#\n",
        "#Coefficients:\n",
        " #           Estimate Std. Error t value Pr(>|t|)\n",
        "#(Intercept)  3.89853    0.12891  30.243   <2e-16 ***\n",
        "#X3           0.90932    0.03914  23.230   <2e-16 ***\n",
        "#X2          -1.75988    0.15472 -11.375   <2e-16 ***\n",
        "#X            3.38937    0.13569  24.979   <2e-16 ***\n",
        "#X4          -0.05620    0.02325  -2.417   0.0176 *\n",
        "#---\n",
        "##\n",
        "#Residual standard error: 0.8454 on 95 degrees of freedom\n",
        "#Multiple R-squared:  0.9877,\tAdjusted R-squared:  0.9871\n",
        "#F-statistic:  1900 on 4 and 95 DF,  p-value: < 2.2e-16\n",
        "```"
      ],
      "id": "861cedcd"
    },
    {
      "cell_type": "markdown",
      "metadata": {
        "id": "955e381d"
      },
      "source": [
        "b) Backwards stepwise selection:"
      ],
      "id": "955e381d"
    },
    {
      "cell_type": "code",
      "execution_count": 55,
      "metadata": {
        "id": "c9a50756",
        "vscode": {
          "languageId": "r"
        },
        "outputId": "72e3885b-9525-4155-f1fd-1b256efce556",
        "colab": {
          "base_uri": "https://localhost:8080/",
          "height": 428
        }
      },
      "outputs": [
        {
          "output_type": "stream",
          "name": "stdout",
          "text": [
            "[1] \"backward model\"\n"
          ]
        },
        {
          "output_type": "display_data",
          "data": {
            "text/plain": [
              "\n",
              "Call:\n",
              "lm(formula = Y ~ X + X2 + X5 + X7 + X9, data = data)\n",
              "\n",
              "Residuals:\n",
              "     Min       1Q   Median       3Q      Max \n",
              "-1.88057 -0.73258  0.05525  0.56069  1.93816 \n",
              "\n",
              "Coefficients:\n",
              "             Estimate Std. Error t value Pr(>|t|)    \n",
              "(Intercept)  3.831497   0.120012  31.926  < 2e-16 ***\n",
              "X            3.603650   0.177773  20.271  < 2e-16 ***\n",
              "X2          -2.006123   0.078000 -25.719  < 2e-16 ***\n",
              "X5           0.528671   0.079089   6.685 1.63e-09 ***\n",
              "X7          -0.097666   0.023065  -4.234 5.34e-05 ***\n",
              "X9           0.005568   0.001642   3.391  0.00102 ** \n",
              "---\n",
              "Signif. codes:  0 ‘***’ 0.001 ‘**’ 0.01 ‘*’ 0.05 ‘.’ 0.1 ‘ ’ 1\n",
              "\n",
              "Residual standard error: 0.9244 on 94 degrees of freedom\n",
              "Multiple R-squared:  0.9894,\tAdjusted R-squared:  0.9888 \n",
              "F-statistic:  1751 on 5 and 94 DF,  p-value: < 2.2e-16\n"
            ]
          },
          "metadata": {}
        }
      ],
      "source": [
        "# WRITE YOUR CODE HERE\n",
        "print(\"backward model\")\n",
        "summary(backward_model)\n"
      ],
      "id": "c9a50756"
    },
    {
      "cell_type": "code",
      "execution_count": null,
      "metadata": {
        "id": "30746619",
        "vscode": {
          "languageId": "r"
        }
      },
      "outputs": [],
      "source": [
        "# Note: if your model summary doesn't show up when viewing your notebook on github, copy and paste the output below.\n",
        "# Otherwise you can either delete this cell or leave it blank.\n",
        "\n",
        "```\n",
        "# paste here\n",
        "#[1] \"backward model\"\n",
        "\n",
        "#Call:\n",
        "#lm(formula = Y ~ X + X3 + X4 + X6 + X7 + X8 + X10, data = data)\n",
        "\n",
        "#Residuals:\n",
        "#     Min       1Q   Median       3Q      Max\n",
        "#-2.09573 -0.59752  0.04225  0.55813  1.91989\n",
        "#\n",
        "#Coefficients:\n",
        "#             Estimate Std. Error t value Pr(>|t|)\n",
        "#(Intercept)  3.678783   0.124317  29.592  < 2e-16 ***\n",
        "#X            3.583517   0.247280  14.492  < 2e-16 ***\n",
        "#X3           0.665382   0.183450   3.627 0.000470 ***\n",
        "#X4          -2.435815   0.415266  -5.866 6.96e-08 ***\n",
        "#X6           1.207103   0.352874   3.421 0.000933 ***\n",
        "#X7           0.029369   0.016063   1.828 0.070731 .\n",
        "#X8          -0.255400   0.095432  -2.676 0.008814 **\n",
        "#X10          0.017110   0.007202   2.376 0.019593 *\n",
        "#---\n",
        "#Signif. codes:  0 ‘***’ 0.001 ‘**’ 0.01 ‘*’ 0.05 ‘.’ 0.1 ‘ ’ 1\n",
        "\n",
        "#Residual standard error: 0.8526 on 92 degrees of freedom\n",
        "#Multiple R-squared:  0.9878,\tAdjusted R-squared:  0.9869\n",
        "#F-statistic:  1067 on 7 and 92 DF,  p-value: < 2.2e-16\n",
        "```"
      ],
      "id": "30746619"
    },
    {
      "cell_type": "markdown",
      "metadata": {
        "id": "25dbc027"
      },
      "source": [
        "c) Compare your results from parts a and b with those of question 1.\n",
        "\n",
        "1.   List item\n",
        "2.   List item\n",
        "\n"
      ],
      "id": "25dbc027"
    },
    {
      "cell_type": "markdown",
      "metadata": {
        "id": "34ac850e"
      },
      "source": [
        "> *Write your response here*\n",
        "> so the forward model is pretty decent because of r2 value. However, the backward isn't bad either. When comparing to the full model compairon it makes obvious that the selection is somewhat random in that when you are removing from the backward model you are removing that which explains the least variance but tht could effect downstream choices. Forward is similar to this but the opposite. I think that the full model sheds like on the fact that both the forward and backward model also showed that x3 was a good predictor. However, It is hard to see which is the best way to do it when comparing to full model comparison that iterates through all possibilities."
      ],
      "id": "34ac850e"
    },
    {
      "cell_type": "markdown",
      "metadata": {
        "id": "630f4909"
      },
      "source": [
        "---\n",
        "## 3. Training and test error (3 points)"
      ],
      "id": "630f4909"
    },
    {
      "cell_type": "markdown",
      "metadata": {
        "id": "cdea3f49"
      },
      "source": [
        "This question will explore the relationship between training and test error and the number of features included in a model. We will again use a simulated dataset.\n",
        "\n",
        "a) Simulate dataset with features $p = 20$ and observations $n = 1,000$. Generate data for a response variable $Y$ according to the model\n",
        "\n",
        "$Y = X\\beta + \\epsilon$\n",
        "\n",
        "where $\\beta$ is random with some elements that are exactly zero.\n",
        "\n",
        "Split your simulated dataset into a training set containing $n=100$ observations and a test set containing $n=900$ observations."
      ],
      "id": "cdea3f49"
    },
    {
      "cell_type": "code",
      "execution_count": 88,
      "metadata": {
        "id": "3f113879",
        "vscode": {
          "languageId": "r"
        },
        "outputId": "f0c0d79b-f114-45d7-a5a8-df011dd61f09",
        "colab": {
          "base_uri": "https://localhost:8080/",
          "height": 1000
        }
      },
      "outputs": [
        {
          "output_type": "display_data",
          "data": {
            "text/html": [
              "<style>\n",
              ".list-inline {list-style: none; margin:0; padding: 0}\n",
              ".list-inline>li {display: inline-block}\n",
              ".list-inline>li:not(:last-child)::after {content: \"\\00b7\"; padding: 0 .5ex}\n",
              "</style>\n",
              "<ol class=list-inline><li>100</li><li>21</li></ol>\n"
            ],
            "text/markdown": "1. 100\n2. 21\n\n\n",
            "text/latex": "\\begin{enumerate*}\n\\item 100\n\\item 21\n\\end{enumerate*}\n",
            "text/plain": [
              "[1] 100  21"
            ]
          },
          "metadata": {}
        },
        {
          "output_type": "display_data",
          "data": {
            "text/html": [
              "<style>\n",
              ".list-inline {list-style: none; margin:0; padding: 0}\n",
              ".list-inline>li {display: inline-block}\n",
              ".list-inline>li:not(:last-child)::after {content: \"\\00b7\"; padding: 0 .5ex}\n",
              "</style>\n",
              "<ol class=list-inline><li>900</li><li>21</li></ol>\n"
            ],
            "text/markdown": "1. 900\n2. 21\n\n\n",
            "text/latex": "\\begin{enumerate*}\n\\item 900\n\\item 21\n\\end{enumerate*}\n",
            "text/plain": [
              "[1] 900  21"
            ]
          },
          "metadata": {}
        },
        {
          "output_type": "display_data",
          "data": {
            "text/plain": [
              "       Y                   X1                  X2                 X3          \n",
              " Min.   :-12.47465   Min.   :-2.724251   Min.   :-2.06714   Min.   :-1.69746  \n",
              " 1st Qu.: -2.94845   1st Qu.:-0.841353   1st Qu.:-0.73714   1st Qu.:-0.72688  \n",
              " Median :  0.07899   Median : 0.006832   Median :-0.04698   Median :-0.18276  \n",
              " Mean   :  0.54497   Mean   :-0.116536   Mean   :-0.05033   Mean   :-0.05372  \n",
              " 3rd Qu.:  4.57104   3rd Qu.: 0.565181   3rd Qu.: 0.55440   3rd Qu.: 0.51466  \n",
              " Max.   : 12.89053   Max.   : 2.717139   Max.   : 2.00611   Max.   : 2.42217  \n",
              "       X4                 X5                 X6                 X7         \n",
              " Min.   :-2.30057   Min.   :-4.06815   Min.   :-2.12887   Min.   :-2.5810  \n",
              " 1st Qu.:-0.79312   1st Qu.:-0.58990   1st Qu.:-0.49567   1st Qu.:-0.5651  \n",
              " Median :-0.33939   Median : 0.06047   Median :-0.12500   Median : 0.1725  \n",
              " Mean   :-0.07886   Mean   :-0.04681   Mean   : 0.02682   Mean   : 0.1280  \n",
              " 3rd Qu.: 0.58470   3rd Qu.: 0.55673   3rd Qu.: 0.58154   3rd Qu.: 0.9277  \n",
              " Max.   : 2.53134   Max.   : 2.07804   Max.   : 2.17920   Max.   : 2.3396  \n",
              "       X8                 X9               X10                X11         \n",
              " Min.   :-2.41872   Min.   :-3.2991   Min.   :-2.36633   Min.   :-2.5437  \n",
              " 1st Qu.:-0.67352   1st Qu.:-0.8971   1st Qu.:-0.72481   1st Qu.:-0.8035  \n",
              " Median :-0.05033   Median :-0.1336   Median :-0.03924   Median :-0.2280  \n",
              " Mean   :-0.08849   Mean   :-0.1907   Mean   :-0.11368   Mean   :-0.1973  \n",
              " 3rd Qu.: 0.57748   3rd Qu.: 0.4677   3rd Qu.: 0.41300   3rd Qu.: 0.4362  \n",
              " Max.   : 2.14780   Max.   : 2.1134   Max.   : 1.93152   Max.   : 2.9768  \n",
              "      X12                X13               X14               X15          \n",
              " Min.   :-2.97258   Min.   :-2.4739   Min.   :-1.9952   Min.   :-3.16108  \n",
              " 1st Qu.:-0.68325   1st Qu.:-0.7473   1st Qu.:-0.3074   1st Qu.:-0.54343  \n",
              " Median : 0.02410   Median :-0.1365   Median : 0.2275   Median : 0.05789  \n",
              " Mean   :-0.04774   Mean   :-0.1181   Mean   : 0.2074   Mean   : 0.03856  \n",
              " 3rd Qu.: 0.64976   3rd Qu.: 0.5218   3rd Qu.: 0.7653   3rd Qu.: 0.63201  \n",
              " Max.   : 1.75736   Max.   : 2.4202   Max.   : 2.3012   Max.   : 2.37056  \n",
              "      X16                X17               X18                X19          \n",
              " Min.   :-2.63562   Min.   :-1.9329   Min.   :-2.49131   Min.   :-2.89711  \n",
              " 1st Qu.:-0.88341   1st Qu.:-0.4510   1st Qu.:-0.53624   1st Qu.:-0.70476  \n",
              " Median : 0.04753   Median : 0.1078   Median : 0.18229   Median :-0.03194  \n",
              " Mean   : 0.04719   Mean   : 0.1005   Mean   : 0.06217   Mean   :-0.08734  \n",
              " 3rd Qu.: 0.74727   3rd Qu.: 0.7816   3rd Qu.: 0.72033   3rd Qu.: 0.59047  \n",
              " Max.   : 2.62229   Max.   : 2.3778   Max.   : 1.77523   Max.   : 1.72377  \n",
              "      X20          \n",
              " Min.   :-2.50667  \n",
              " 1st Qu.:-0.66843  \n",
              " Median : 0.02947  \n",
              " Mean   : 0.07143  \n",
              " 3rd Qu.: 0.70356  \n",
              " Max.   : 3.70446  "
            ]
          },
          "metadata": {}
        },
        {
          "output_type": "display_data",
          "data": {
            "text/plain": [
              "       Y                   X1                 X2                 X3          \n",
              " Min.   :-16.30135   Min.   :-3.49919   Min.   :-4.04747   Min.   :-2.74643  \n",
              " 1st Qu.: -3.15153   1st Qu.:-0.69278   1st Qu.:-0.76675   1st Qu.:-0.75556  \n",
              " Median : -0.17878   Median :-0.05104   Median :-0.03415   Median :-0.08638  \n",
              " Mean   : -0.01885   Mean   :-0.03219   Mean   :-0.05875   Mean   :-0.04461  \n",
              " 3rd Qu.:  3.07136   3rd Qu.: 0.61854   3rd Qu.: 0.66306   3rd Qu.: 0.65637  \n",
              " Max.   : 15.68863   Max.   : 3.18425   Max.   : 3.12336   Max.   : 2.82442  \n",
              "       X4                 X5                  X6                  X7          \n",
              " Min.   :-2.49230   Min.   :-2.833020   Min.   :-3.101590   Min.   :-3.43186  \n",
              " 1st Qu.:-0.67086   1st Qu.:-0.660412   1st Qu.:-0.671982   1st Qu.:-0.75979  \n",
              " Median : 0.02520   Median :-0.043656   Median : 0.002400   Median :-0.08738  \n",
              " Mean   : 0.05799   Mean   :-0.004886   Mean   : 0.004434   Mean   :-0.08401  \n",
              " 3rd Qu.: 0.78408   3rd Qu.: 0.646994   3rd Qu.: 0.668198   3rd Qu.: 0.59469  \n",
              " Max.   : 2.89237   Max.   : 3.318564   Max.   : 2.592663   Max.   : 2.60838  \n",
              "       X8                 X9                 X10                X11          \n",
              " Min.   :-2.91440   Min.   :-3.423777   Min.   :-3.48332   Min.   :-3.76351  \n",
              " 1st Qu.:-0.65718   1st Qu.:-0.646852   1st Qu.:-0.61189   1st Qu.:-0.64671  \n",
              " Median : 0.05303   Median :-0.026483   Median : 0.03435   Median : 0.03114  \n",
              " Mean   : 0.03433   Mean   : 0.004311   Mean   : 0.06478   Mean   : 0.00194  \n",
              " 3rd Qu.: 0.69026   3rd Qu.: 0.647449   3rd Qu.: 0.74753   3rd Qu.: 0.63869  \n",
              " Max.   : 3.09185   Max.   : 2.865161   Max.   : 3.05835   Max.   : 3.24125  \n",
              "      X12                X13                X14                X15          \n",
              " Min.   :-3.43945   Min.   :-2.76673   Min.   :-3.35638   Min.   :-2.92593  \n",
              " 1st Qu.:-0.62380   1st Qu.:-0.64449   1st Qu.:-0.64626   1st Qu.:-0.70566  \n",
              " Median : 0.01402   Median :-0.01712   Median : 0.01707   Median :-0.09399  \n",
              " Mean   : 0.01980   Mean   : 0.03176   Mean   : 0.01324   Mean   :-0.03564  \n",
              " 3rd Qu.: 0.71164   3rd Qu.: 0.72198   3rd Qu.: 0.74194   3rd Qu.: 0.64156  \n",
              " Max.   : 3.13531   Max.   : 2.68590   Max.   : 3.95035   Max.   : 3.10155  \n",
              "      X16                X17                X18                X19          \n",
              " Min.   :-2.79057   Min.   :-2.79906   Min.   :-3.18513   Min.   :-3.38127  \n",
              " 1st Qu.:-0.65019   1st Qu.:-0.63706   1st Qu.:-0.58927   1st Qu.:-0.66471  \n",
              " Median : 0.02354   Median : 0.05483   Median : 0.01012   Median : 0.02640  \n",
              " Mean   :-0.03147   Mean   : 0.02162   Mean   : 0.05830   Mean   : 0.01622  \n",
              " 3rd Qu.: 0.62139   3rd Qu.: 0.66248   3rd Qu.: 0.71393   3rd Qu.: 0.70085  \n",
              " Max.   : 2.91526   Max.   : 2.91805   Max.   : 3.08284   Max.   : 2.80339  \n",
              "      X20          \n",
              " Min.   :-3.21970  \n",
              " 1st Qu.:-0.73740  \n",
              " Median :-0.02755  \n",
              " Mean   :-0.04061  \n",
              " 3rd Qu.: 0.66956  \n",
              " Max.   : 2.98407  "
            ]
          },
          "metadata": {}
        }
      ],
      "source": [
        "# WRITE YOUR CODE HERE\n",
        "n <- 1000\n",
        "p <- 20\n",
        "n_train <- 100\n",
        "n_test <- n - n_train\n",
        "\n",
        "set.seed(128)\n",
        "X <- matrix(rnorm(n * p), nrow = n, ncol = p)\n",
        "beta <- ifelse(runif(p) <.2, 0, rnorm(p)) # beta are 0\n",
        "#by adding in runif for 0 changes\n",
        "epsilon <- rnorm(n, mean = 0, sd = 1)\n",
        "Y <- X %*% beta + epsilon\n",
        "\n",
        "df <- data.frame(Y = Y, X)\n",
        "\n",
        "train_indices <- sample(1:n, n_train, replace = FALSE)\n",
        "train_data <- df[train_indices, ]\n",
        "test_data <- df[-train_indices, ]\n",
        "dim(train_data)\n",
        "dim(test_data)\n",
        "summary(train_data)\n",
        "summary(test_data)\n"
      ],
      "id": "3f113879"
    },
    {
      "cell_type": "markdown",
      "metadata": {
        "id": "5886639c"
      },
      "source": [
        "b) Perform best subset selection on the training set, and plot the associated training and test set MSE for the best model of each size.\n",
        "\n",
        "> Add blockquote\n",
        "\n"
      ],
      "id": "5886639c"
    },
    {
      "cell_type": "code",
      "execution_count": 89,
      "metadata": {
        "id": "a1dbdf04",
        "vscode": {
          "languageId": "r"
        },
        "outputId": "46070ee5-8408-4187-97e5-4b191b980d5e",
        "colab": {
          "base_uri": "https://localhost:8080/",
          "height": 694
        }
      },
      "outputs": [
        {
          "output_type": "display_data",
          "data": {
            "text/html": [
              "<table class=\"dataframe\">\n",
              "<caption>A matrix: 20 × 21 of type lgl</caption>\n",
              "<thead>\n",
              "\t<tr><th></th><th scope=col>(Intercept)</th><th scope=col>X1</th><th scope=col>X2</th><th scope=col>X3</th><th scope=col>X4</th><th scope=col>X5</th><th scope=col>X6</th><th scope=col>X7</th><th scope=col>X8</th><th scope=col>X9</th><th scope=col>⋯</th><th scope=col>X11</th><th scope=col>X12</th><th scope=col>X13</th><th scope=col>X14</th><th scope=col>X15</th><th scope=col>X16</th><th scope=col>X17</th><th scope=col>X18</th><th scope=col>X19</th><th scope=col>X20</th></tr>\n",
              "</thead>\n",
              "<tbody>\n",
              "\t<tr><th scope=row>1</th><td>TRUE</td><td>FALSE</td><td>FALSE</td><td>FALSE</td><td>FALSE</td><td>FALSE</td><td>FALSE</td><td>FALSE</td><td>FALSE</td><td>FALSE</td><td>⋯</td><td>FALSE</td><td>FALSE</td><td>FALSE</td><td>FALSE</td><td>FALSE</td><td>TRUE</td><td>FALSE</td><td>FALSE</td><td>FALSE</td><td>FALSE</td></tr>\n",
              "\t<tr><th scope=row>2</th><td>TRUE</td><td>FALSE</td><td>FALSE</td><td>FALSE</td><td>FALSE</td><td>FALSE</td><td>FALSE</td><td>FALSE</td><td>FALSE</td><td> TRUE</td><td>⋯</td><td>FALSE</td><td>FALSE</td><td>FALSE</td><td>FALSE</td><td>FALSE</td><td>TRUE</td><td>FALSE</td><td>FALSE</td><td>FALSE</td><td>FALSE</td></tr>\n",
              "\t<tr><th scope=row>3</th><td>TRUE</td><td>FALSE</td><td>FALSE</td><td>FALSE</td><td>FALSE</td><td>FALSE</td><td> TRUE</td><td>FALSE</td><td>FALSE</td><td> TRUE</td><td>⋯</td><td>FALSE</td><td>FALSE</td><td>FALSE</td><td>FALSE</td><td>FALSE</td><td>TRUE</td><td>FALSE</td><td>FALSE</td><td>FALSE</td><td>FALSE</td></tr>\n",
              "\t<tr><th scope=row>4</th><td>TRUE</td><td>FALSE</td><td>FALSE</td><td>FALSE</td><td>FALSE</td><td>FALSE</td><td> TRUE</td><td>FALSE</td><td>FALSE</td><td> TRUE</td><td>⋯</td><td> TRUE</td><td>FALSE</td><td>FALSE</td><td>FALSE</td><td>FALSE</td><td>TRUE</td><td>FALSE</td><td>FALSE</td><td>FALSE</td><td>FALSE</td></tr>\n",
              "\t<tr><th scope=row>5</th><td>TRUE</td><td>FALSE</td><td>FALSE</td><td>FALSE</td><td>FALSE</td><td>FALSE</td><td> TRUE</td><td>FALSE</td><td>FALSE</td><td> TRUE</td><td>⋯</td><td> TRUE</td><td> TRUE</td><td>FALSE</td><td>FALSE</td><td>FALSE</td><td>TRUE</td><td>FALSE</td><td>FALSE</td><td>FALSE</td><td>FALSE</td></tr>\n",
              "\t<tr><th scope=row>6</th><td>TRUE</td><td>FALSE</td><td>FALSE</td><td>FALSE</td><td>FALSE</td><td>FALSE</td><td> TRUE</td><td>FALSE</td><td>FALSE</td><td> TRUE</td><td>⋯</td><td> TRUE</td><td> TRUE</td><td>FALSE</td><td>FALSE</td><td> TRUE</td><td>TRUE</td><td>FALSE</td><td>FALSE</td><td>FALSE</td><td>FALSE</td></tr>\n",
              "\t<tr><th scope=row>7</th><td>TRUE</td><td>FALSE</td><td>FALSE</td><td>FALSE</td><td>FALSE</td><td>FALSE</td><td> TRUE</td><td>FALSE</td><td>FALSE</td><td> TRUE</td><td>⋯</td><td> TRUE</td><td> TRUE</td><td>FALSE</td><td> TRUE</td><td> TRUE</td><td>TRUE</td><td>FALSE</td><td>FALSE</td><td>FALSE</td><td>FALSE</td></tr>\n",
              "\t<tr><th scope=row>8</th><td>TRUE</td><td> TRUE</td><td>FALSE</td><td>FALSE</td><td>FALSE</td><td>FALSE</td><td> TRUE</td><td>FALSE</td><td>FALSE</td><td> TRUE</td><td>⋯</td><td> TRUE</td><td> TRUE</td><td>FALSE</td><td> TRUE</td><td> TRUE</td><td>TRUE</td><td>FALSE</td><td>FALSE</td><td>FALSE</td><td>FALSE</td></tr>\n",
              "\t<tr><th scope=row>9</th><td>TRUE</td><td> TRUE</td><td>FALSE</td><td>FALSE</td><td>FALSE</td><td>FALSE</td><td> TRUE</td><td>FALSE</td><td>FALSE</td><td> TRUE</td><td>⋯</td><td> TRUE</td><td> TRUE</td><td>FALSE</td><td> TRUE</td><td> TRUE</td><td>TRUE</td><td> TRUE</td><td>FALSE</td><td>FALSE</td><td>FALSE</td></tr>\n",
              "\t<tr><th scope=row>10</th><td>TRUE</td><td> TRUE</td><td>FALSE</td><td>FALSE</td><td>FALSE</td><td>FALSE</td><td> TRUE</td><td>FALSE</td><td>FALSE</td><td> TRUE</td><td>⋯</td><td> TRUE</td><td> TRUE</td><td> TRUE</td><td> TRUE</td><td> TRUE</td><td>TRUE</td><td> TRUE</td><td>FALSE</td><td>FALSE</td><td>FALSE</td></tr>\n",
              "\t<tr><th scope=row>11</th><td>TRUE</td><td> TRUE</td><td>FALSE</td><td>FALSE</td><td>FALSE</td><td>FALSE</td><td> TRUE</td><td>FALSE</td><td> TRUE</td><td> TRUE</td><td>⋯</td><td> TRUE</td><td> TRUE</td><td> TRUE</td><td> TRUE</td><td> TRUE</td><td>TRUE</td><td> TRUE</td><td>FALSE</td><td>FALSE</td><td>FALSE</td></tr>\n",
              "\t<tr><th scope=row>12</th><td>TRUE</td><td> TRUE</td><td>FALSE</td><td>FALSE</td><td>FALSE</td><td>FALSE</td><td> TRUE</td><td>FALSE</td><td> TRUE</td><td> TRUE</td><td>⋯</td><td> TRUE</td><td> TRUE</td><td> TRUE</td><td> TRUE</td><td> TRUE</td><td>TRUE</td><td> TRUE</td><td>FALSE</td><td> TRUE</td><td>FALSE</td></tr>\n",
              "\t<tr><th scope=row>13</th><td>TRUE</td><td> TRUE</td><td>FALSE</td><td>FALSE</td><td>FALSE</td><td>FALSE</td><td> TRUE</td><td>FALSE</td><td> TRUE</td><td> TRUE</td><td>⋯</td><td> TRUE</td><td> TRUE</td><td> TRUE</td><td> TRUE</td><td> TRUE</td><td>TRUE</td><td> TRUE</td><td>FALSE</td><td> TRUE</td><td>FALSE</td></tr>\n",
              "\t<tr><th scope=row>14</th><td>TRUE</td><td> TRUE</td><td>FALSE</td><td>FALSE</td><td>FALSE</td><td>FALSE</td><td> TRUE</td><td>FALSE</td><td> TRUE</td><td> TRUE</td><td>⋯</td><td> TRUE</td><td> TRUE</td><td> TRUE</td><td> TRUE</td><td> TRUE</td><td>TRUE</td><td> TRUE</td><td>FALSE</td><td> TRUE</td><td> TRUE</td></tr>\n",
              "\t<tr><th scope=row>15</th><td>TRUE</td><td> TRUE</td><td>FALSE</td><td>FALSE</td><td>FALSE</td><td> TRUE</td><td> TRUE</td><td>FALSE</td><td> TRUE</td><td> TRUE</td><td>⋯</td><td> TRUE</td><td> TRUE</td><td> TRUE</td><td> TRUE</td><td> TRUE</td><td>TRUE</td><td> TRUE</td><td>FALSE</td><td> TRUE</td><td> TRUE</td></tr>\n",
              "\t<tr><th scope=row>16</th><td>TRUE</td><td> TRUE</td><td> TRUE</td><td>FALSE</td><td>FALSE</td><td> TRUE</td><td> TRUE</td><td>FALSE</td><td> TRUE</td><td> TRUE</td><td>⋯</td><td> TRUE</td><td> TRUE</td><td> TRUE</td><td> TRUE</td><td> TRUE</td><td>TRUE</td><td> TRUE</td><td>FALSE</td><td> TRUE</td><td> TRUE</td></tr>\n",
              "\t<tr><th scope=row>17</th><td>TRUE</td><td> TRUE</td><td> TRUE</td><td>FALSE</td><td>FALSE</td><td> TRUE</td><td> TRUE</td><td>FALSE</td><td> TRUE</td><td> TRUE</td><td>⋯</td><td> TRUE</td><td> TRUE</td><td> TRUE</td><td> TRUE</td><td> TRUE</td><td>TRUE</td><td> TRUE</td><td> TRUE</td><td> TRUE</td><td> TRUE</td></tr>\n",
              "\t<tr><th scope=row>18</th><td>TRUE</td><td> TRUE</td><td> TRUE</td><td>FALSE</td><td>FALSE</td><td> TRUE</td><td> TRUE</td><td> TRUE</td><td> TRUE</td><td> TRUE</td><td>⋯</td><td> TRUE</td><td> TRUE</td><td> TRUE</td><td> TRUE</td><td> TRUE</td><td>TRUE</td><td> TRUE</td><td> TRUE</td><td> TRUE</td><td> TRUE</td></tr>\n",
              "\t<tr><th scope=row>19</th><td>TRUE</td><td> TRUE</td><td> TRUE</td><td> TRUE</td><td>FALSE</td><td> TRUE</td><td> TRUE</td><td> TRUE</td><td> TRUE</td><td> TRUE</td><td>⋯</td><td> TRUE</td><td> TRUE</td><td> TRUE</td><td> TRUE</td><td> TRUE</td><td>TRUE</td><td> TRUE</td><td> TRUE</td><td> TRUE</td><td> TRUE</td></tr>\n",
              "\t<tr><th scope=row>20</th><td>TRUE</td><td> TRUE</td><td> TRUE</td><td> TRUE</td><td> TRUE</td><td> TRUE</td><td> TRUE</td><td> TRUE</td><td> TRUE</td><td> TRUE</td><td>⋯</td><td> TRUE</td><td> TRUE</td><td> TRUE</td><td> TRUE</td><td> TRUE</td><td>TRUE</td><td> TRUE</td><td> TRUE</td><td> TRUE</td><td> TRUE</td></tr>\n",
              "</tbody>\n",
              "</table>\n"
            ],
            "text/markdown": "\nA matrix: 20 × 21 of type lgl\n\n| <!--/--> | (Intercept) | X1 | X2 | X3 | X4 | X5 | X6 | X7 | X8 | X9 | ⋯ | X11 | X12 | X13 | X14 | X15 | X16 | X17 | X18 | X19 | X20 |\n|---|---|---|---|---|---|---|---|---|---|---|---|---|---|---|---|---|---|---|---|---|---|\n| 1 | TRUE | FALSE | FALSE | FALSE | FALSE | FALSE | FALSE | FALSE | FALSE | FALSE | ⋯ | FALSE | FALSE | FALSE | FALSE | FALSE | TRUE | FALSE | FALSE | FALSE | FALSE |\n| 2 | TRUE | FALSE | FALSE | FALSE | FALSE | FALSE | FALSE | FALSE | FALSE |  TRUE | ⋯ | FALSE | FALSE | FALSE | FALSE | FALSE | TRUE | FALSE | FALSE | FALSE | FALSE |\n| 3 | TRUE | FALSE | FALSE | FALSE | FALSE | FALSE |  TRUE | FALSE | FALSE |  TRUE | ⋯ | FALSE | FALSE | FALSE | FALSE | FALSE | TRUE | FALSE | FALSE | FALSE | FALSE |\n| 4 | TRUE | FALSE | FALSE | FALSE | FALSE | FALSE |  TRUE | FALSE | FALSE |  TRUE | ⋯ |  TRUE | FALSE | FALSE | FALSE | FALSE | TRUE | FALSE | FALSE | FALSE | FALSE |\n| 5 | TRUE | FALSE | FALSE | FALSE | FALSE | FALSE |  TRUE | FALSE | FALSE |  TRUE | ⋯ |  TRUE |  TRUE | FALSE | FALSE | FALSE | TRUE | FALSE | FALSE | FALSE | FALSE |\n| 6 | TRUE | FALSE | FALSE | FALSE | FALSE | FALSE |  TRUE | FALSE | FALSE |  TRUE | ⋯ |  TRUE |  TRUE | FALSE | FALSE |  TRUE | TRUE | FALSE | FALSE | FALSE | FALSE |\n| 7 | TRUE | FALSE | FALSE | FALSE | FALSE | FALSE |  TRUE | FALSE | FALSE |  TRUE | ⋯ |  TRUE |  TRUE | FALSE |  TRUE |  TRUE | TRUE | FALSE | FALSE | FALSE | FALSE |\n| 8 | TRUE |  TRUE | FALSE | FALSE | FALSE | FALSE |  TRUE | FALSE | FALSE |  TRUE | ⋯ |  TRUE |  TRUE | FALSE |  TRUE |  TRUE | TRUE | FALSE | FALSE | FALSE | FALSE |\n| 9 | TRUE |  TRUE | FALSE | FALSE | FALSE | FALSE |  TRUE | FALSE | FALSE |  TRUE | ⋯ |  TRUE |  TRUE | FALSE |  TRUE |  TRUE | TRUE |  TRUE | FALSE | FALSE | FALSE |\n| 10 | TRUE |  TRUE | FALSE | FALSE | FALSE | FALSE |  TRUE | FALSE | FALSE |  TRUE | ⋯ |  TRUE |  TRUE |  TRUE |  TRUE |  TRUE | TRUE |  TRUE | FALSE | FALSE | FALSE |\n| 11 | TRUE |  TRUE | FALSE | FALSE | FALSE | FALSE |  TRUE | FALSE |  TRUE |  TRUE | ⋯ |  TRUE |  TRUE |  TRUE |  TRUE |  TRUE | TRUE |  TRUE | FALSE | FALSE | FALSE |\n| 12 | TRUE |  TRUE | FALSE | FALSE | FALSE | FALSE |  TRUE | FALSE |  TRUE |  TRUE | ⋯ |  TRUE |  TRUE |  TRUE |  TRUE |  TRUE | TRUE |  TRUE | FALSE |  TRUE | FALSE |\n| 13 | TRUE |  TRUE | FALSE | FALSE | FALSE | FALSE |  TRUE | FALSE |  TRUE |  TRUE | ⋯ |  TRUE |  TRUE |  TRUE |  TRUE |  TRUE | TRUE |  TRUE | FALSE |  TRUE | FALSE |\n| 14 | TRUE |  TRUE | FALSE | FALSE | FALSE | FALSE |  TRUE | FALSE |  TRUE |  TRUE | ⋯ |  TRUE |  TRUE |  TRUE |  TRUE |  TRUE | TRUE |  TRUE | FALSE |  TRUE |  TRUE |\n| 15 | TRUE |  TRUE | FALSE | FALSE | FALSE |  TRUE |  TRUE | FALSE |  TRUE |  TRUE | ⋯ |  TRUE |  TRUE |  TRUE |  TRUE |  TRUE | TRUE |  TRUE | FALSE |  TRUE |  TRUE |\n| 16 | TRUE |  TRUE |  TRUE | FALSE | FALSE |  TRUE |  TRUE | FALSE |  TRUE |  TRUE | ⋯ |  TRUE |  TRUE |  TRUE |  TRUE |  TRUE | TRUE |  TRUE | FALSE |  TRUE |  TRUE |\n| 17 | TRUE |  TRUE |  TRUE | FALSE | FALSE |  TRUE |  TRUE | FALSE |  TRUE |  TRUE | ⋯ |  TRUE |  TRUE |  TRUE |  TRUE |  TRUE | TRUE |  TRUE |  TRUE |  TRUE |  TRUE |\n| 18 | TRUE |  TRUE |  TRUE | FALSE | FALSE |  TRUE |  TRUE |  TRUE |  TRUE |  TRUE | ⋯ |  TRUE |  TRUE |  TRUE |  TRUE |  TRUE | TRUE |  TRUE |  TRUE |  TRUE |  TRUE |\n| 19 | TRUE |  TRUE |  TRUE |  TRUE | FALSE |  TRUE |  TRUE |  TRUE |  TRUE |  TRUE | ⋯ |  TRUE |  TRUE |  TRUE |  TRUE |  TRUE | TRUE |  TRUE |  TRUE |  TRUE |  TRUE |\n| 20 | TRUE |  TRUE |  TRUE |  TRUE |  TRUE |  TRUE |  TRUE |  TRUE |  TRUE |  TRUE | ⋯ |  TRUE |  TRUE |  TRUE |  TRUE |  TRUE | TRUE |  TRUE |  TRUE |  TRUE |  TRUE |\n\n",
            "text/latex": "A matrix: 20 × 21 of type lgl\n\\begin{tabular}{r|lllllllllllllllllllll}\n  & (Intercept) & X1 & X2 & X3 & X4 & X5 & X6 & X7 & X8 & X9 & ⋯ & X11 & X12 & X13 & X14 & X15 & X16 & X17 & X18 & X19 & X20\\\\\n\\hline\n\t1 & TRUE & FALSE & FALSE & FALSE & FALSE & FALSE & FALSE & FALSE & FALSE & FALSE & ⋯ & FALSE & FALSE & FALSE & FALSE & FALSE & TRUE & FALSE & FALSE & FALSE & FALSE\\\\\n\t2 & TRUE & FALSE & FALSE & FALSE & FALSE & FALSE & FALSE & FALSE & FALSE &  TRUE & ⋯ & FALSE & FALSE & FALSE & FALSE & FALSE & TRUE & FALSE & FALSE & FALSE & FALSE\\\\\n\t3 & TRUE & FALSE & FALSE & FALSE & FALSE & FALSE &  TRUE & FALSE & FALSE &  TRUE & ⋯ & FALSE & FALSE & FALSE & FALSE & FALSE & TRUE & FALSE & FALSE & FALSE & FALSE\\\\\n\t4 & TRUE & FALSE & FALSE & FALSE & FALSE & FALSE &  TRUE & FALSE & FALSE &  TRUE & ⋯ &  TRUE & FALSE & FALSE & FALSE & FALSE & TRUE & FALSE & FALSE & FALSE & FALSE\\\\\n\t5 & TRUE & FALSE & FALSE & FALSE & FALSE & FALSE &  TRUE & FALSE & FALSE &  TRUE & ⋯ &  TRUE &  TRUE & FALSE & FALSE & FALSE & TRUE & FALSE & FALSE & FALSE & FALSE\\\\\n\t6 & TRUE & FALSE & FALSE & FALSE & FALSE & FALSE &  TRUE & FALSE & FALSE &  TRUE & ⋯ &  TRUE &  TRUE & FALSE & FALSE &  TRUE & TRUE & FALSE & FALSE & FALSE & FALSE\\\\\n\t7 & TRUE & FALSE & FALSE & FALSE & FALSE & FALSE &  TRUE & FALSE & FALSE &  TRUE & ⋯ &  TRUE &  TRUE & FALSE &  TRUE &  TRUE & TRUE & FALSE & FALSE & FALSE & FALSE\\\\\n\t8 & TRUE &  TRUE & FALSE & FALSE & FALSE & FALSE &  TRUE & FALSE & FALSE &  TRUE & ⋯ &  TRUE &  TRUE & FALSE &  TRUE &  TRUE & TRUE & FALSE & FALSE & FALSE & FALSE\\\\\n\t9 & TRUE &  TRUE & FALSE & FALSE & FALSE & FALSE &  TRUE & FALSE & FALSE &  TRUE & ⋯ &  TRUE &  TRUE & FALSE &  TRUE &  TRUE & TRUE &  TRUE & FALSE & FALSE & FALSE\\\\\n\t10 & TRUE &  TRUE & FALSE & FALSE & FALSE & FALSE &  TRUE & FALSE & FALSE &  TRUE & ⋯ &  TRUE &  TRUE &  TRUE &  TRUE &  TRUE & TRUE &  TRUE & FALSE & FALSE & FALSE\\\\\n\t11 & TRUE &  TRUE & FALSE & FALSE & FALSE & FALSE &  TRUE & FALSE &  TRUE &  TRUE & ⋯ &  TRUE &  TRUE &  TRUE &  TRUE &  TRUE & TRUE &  TRUE & FALSE & FALSE & FALSE\\\\\n\t12 & TRUE &  TRUE & FALSE & FALSE & FALSE & FALSE &  TRUE & FALSE &  TRUE &  TRUE & ⋯ &  TRUE &  TRUE &  TRUE &  TRUE &  TRUE & TRUE &  TRUE & FALSE &  TRUE & FALSE\\\\\n\t13 & TRUE &  TRUE & FALSE & FALSE & FALSE & FALSE &  TRUE & FALSE &  TRUE &  TRUE & ⋯ &  TRUE &  TRUE &  TRUE &  TRUE &  TRUE & TRUE &  TRUE & FALSE &  TRUE & FALSE\\\\\n\t14 & TRUE &  TRUE & FALSE & FALSE & FALSE & FALSE &  TRUE & FALSE &  TRUE &  TRUE & ⋯ &  TRUE &  TRUE &  TRUE &  TRUE &  TRUE & TRUE &  TRUE & FALSE &  TRUE &  TRUE\\\\\n\t15 & TRUE &  TRUE & FALSE & FALSE & FALSE &  TRUE &  TRUE & FALSE &  TRUE &  TRUE & ⋯ &  TRUE &  TRUE &  TRUE &  TRUE &  TRUE & TRUE &  TRUE & FALSE &  TRUE &  TRUE\\\\\n\t16 & TRUE &  TRUE &  TRUE & FALSE & FALSE &  TRUE &  TRUE & FALSE &  TRUE &  TRUE & ⋯ &  TRUE &  TRUE &  TRUE &  TRUE &  TRUE & TRUE &  TRUE & FALSE &  TRUE &  TRUE\\\\\n\t17 & TRUE &  TRUE &  TRUE & FALSE & FALSE &  TRUE &  TRUE & FALSE &  TRUE &  TRUE & ⋯ &  TRUE &  TRUE &  TRUE &  TRUE &  TRUE & TRUE &  TRUE &  TRUE &  TRUE &  TRUE\\\\\n\t18 & TRUE &  TRUE &  TRUE & FALSE & FALSE &  TRUE &  TRUE &  TRUE &  TRUE &  TRUE & ⋯ &  TRUE &  TRUE &  TRUE &  TRUE &  TRUE & TRUE &  TRUE &  TRUE &  TRUE &  TRUE\\\\\n\t19 & TRUE &  TRUE &  TRUE &  TRUE & FALSE &  TRUE &  TRUE &  TRUE &  TRUE &  TRUE & ⋯ &  TRUE &  TRUE &  TRUE &  TRUE &  TRUE & TRUE &  TRUE &  TRUE &  TRUE &  TRUE\\\\\n\t20 & TRUE &  TRUE &  TRUE &  TRUE &  TRUE &  TRUE &  TRUE &  TRUE &  TRUE &  TRUE & ⋯ &  TRUE &  TRUE &  TRUE &  TRUE &  TRUE & TRUE &  TRUE &  TRUE &  TRUE &  TRUE\\\\\n\\end{tabular}\n",
            "text/plain": [
              "   (Intercept) X1    X2    X3    X4    X5    X6    X7    X8    X9    ⋯ X11  \n",
              "1  TRUE        FALSE FALSE FALSE FALSE FALSE FALSE FALSE FALSE FALSE ⋯ FALSE\n",
              "2  TRUE        FALSE FALSE FALSE FALSE FALSE FALSE FALSE FALSE  TRUE ⋯ FALSE\n",
              "3  TRUE        FALSE FALSE FALSE FALSE FALSE  TRUE FALSE FALSE  TRUE ⋯ FALSE\n",
              "4  TRUE        FALSE FALSE FALSE FALSE FALSE  TRUE FALSE FALSE  TRUE ⋯  TRUE\n",
              "5  TRUE        FALSE FALSE FALSE FALSE FALSE  TRUE FALSE FALSE  TRUE ⋯  TRUE\n",
              "6  TRUE        FALSE FALSE FALSE FALSE FALSE  TRUE FALSE FALSE  TRUE ⋯  TRUE\n",
              "7  TRUE        FALSE FALSE FALSE FALSE FALSE  TRUE FALSE FALSE  TRUE ⋯  TRUE\n",
              "8  TRUE         TRUE FALSE FALSE FALSE FALSE  TRUE FALSE FALSE  TRUE ⋯  TRUE\n",
              "9  TRUE         TRUE FALSE FALSE FALSE FALSE  TRUE FALSE FALSE  TRUE ⋯  TRUE\n",
              "10 TRUE         TRUE FALSE FALSE FALSE FALSE  TRUE FALSE FALSE  TRUE ⋯  TRUE\n",
              "11 TRUE         TRUE FALSE FALSE FALSE FALSE  TRUE FALSE  TRUE  TRUE ⋯  TRUE\n",
              "12 TRUE         TRUE FALSE FALSE FALSE FALSE  TRUE FALSE  TRUE  TRUE ⋯  TRUE\n",
              "13 TRUE         TRUE FALSE FALSE FALSE FALSE  TRUE FALSE  TRUE  TRUE ⋯  TRUE\n",
              "14 TRUE         TRUE FALSE FALSE FALSE FALSE  TRUE FALSE  TRUE  TRUE ⋯  TRUE\n",
              "15 TRUE         TRUE FALSE FALSE FALSE  TRUE  TRUE FALSE  TRUE  TRUE ⋯  TRUE\n",
              "16 TRUE         TRUE  TRUE FALSE FALSE  TRUE  TRUE FALSE  TRUE  TRUE ⋯  TRUE\n",
              "17 TRUE         TRUE  TRUE FALSE FALSE  TRUE  TRUE FALSE  TRUE  TRUE ⋯  TRUE\n",
              "18 TRUE         TRUE  TRUE FALSE FALSE  TRUE  TRUE  TRUE  TRUE  TRUE ⋯  TRUE\n",
              "19 TRUE         TRUE  TRUE  TRUE FALSE  TRUE  TRUE  TRUE  TRUE  TRUE ⋯  TRUE\n",
              "20 TRUE         TRUE  TRUE  TRUE  TRUE  TRUE  TRUE  TRUE  TRUE  TRUE ⋯  TRUE\n",
              "   X12   X13   X14   X15   X16  X17   X18   X19   X20  \n",
              "1  FALSE FALSE FALSE FALSE TRUE FALSE FALSE FALSE FALSE\n",
              "2  FALSE FALSE FALSE FALSE TRUE FALSE FALSE FALSE FALSE\n",
              "3  FALSE FALSE FALSE FALSE TRUE FALSE FALSE FALSE FALSE\n",
              "4  FALSE FALSE FALSE FALSE TRUE FALSE FALSE FALSE FALSE\n",
              "5   TRUE FALSE FALSE FALSE TRUE FALSE FALSE FALSE FALSE\n",
              "6   TRUE FALSE FALSE  TRUE TRUE FALSE FALSE FALSE FALSE\n",
              "7   TRUE FALSE  TRUE  TRUE TRUE FALSE FALSE FALSE FALSE\n",
              "8   TRUE FALSE  TRUE  TRUE TRUE FALSE FALSE FALSE FALSE\n",
              "9   TRUE FALSE  TRUE  TRUE TRUE  TRUE FALSE FALSE FALSE\n",
              "10  TRUE  TRUE  TRUE  TRUE TRUE  TRUE FALSE FALSE FALSE\n",
              "11  TRUE  TRUE  TRUE  TRUE TRUE  TRUE FALSE FALSE FALSE\n",
              "12  TRUE  TRUE  TRUE  TRUE TRUE  TRUE FALSE  TRUE FALSE\n",
              "13  TRUE  TRUE  TRUE  TRUE TRUE  TRUE FALSE  TRUE FALSE\n",
              "14  TRUE  TRUE  TRUE  TRUE TRUE  TRUE FALSE  TRUE  TRUE\n",
              "15  TRUE  TRUE  TRUE  TRUE TRUE  TRUE FALSE  TRUE  TRUE\n",
              "16  TRUE  TRUE  TRUE  TRUE TRUE  TRUE FALSE  TRUE  TRUE\n",
              "17  TRUE  TRUE  TRUE  TRUE TRUE  TRUE  TRUE  TRUE  TRUE\n",
              "18  TRUE  TRUE  TRUE  TRUE TRUE  TRUE  TRUE  TRUE  TRUE\n",
              "19  TRUE  TRUE  TRUE  TRUE TRUE  TRUE  TRUE  TRUE  TRUE\n",
              "20  TRUE  TRUE  TRUE  TRUE TRUE  TRUE  TRUE  TRUE  TRUE"
            ]
          },
          "metadata": {}
        }
      ],
      "source": [
        "# WRITE YOUR CODE HERE\n",
        "subset_fit <- regsubsets(Y ~ ., data = train_data, nvmax = 20)\n",
        "subset_summary <- summary(subset_fit)\n",
        "subset_summary$which"
      ],
      "id": "a1dbdf04"
    },
    {
      "cell_type": "code",
      "source": [
        "training_mse <- numeric(20)\n",
        "testing_mse <- numeric(20)\n",
        "\n",
        "for (i in 1:p) {\n",
        "    included<-subset_summary$which[i, -1]\n",
        "    predictors<-names(train_data)[-1][included]\n",
        "\n",
        "    if (sum(included) > 0) {\n",
        "        formula<-as.formula(paste(\"Y ~\", paste(predictors, collapse = \"+\")))\n",
        "    } else {\n",
        "        formula<-as.formula(\"Y ~ 1\")\n",
        "    }\n",
        "    model <-lm(formula, data = train_data)\n",
        "    train_predictions <-predict(model, newdata = train_data)\n",
        "    training_mse[i] <-mean((train_data$Y - train_predictions)^2)\n",
        "    test_predictions <-predict(model, newdata = test_data)\n",
        "    testing_mse[i] <-mean((test_data$Y - test_predictions)^2)\n",
        "}\n",
        "\n",
        "mse_data<-data.frame(\n",
        "    ModelSize =rep(1:20, times=2),\n",
        "    MSE = c(training_mse, testing_mse),\n",
        "    DataSet = rep(c(\"Train\", \"Test\"), each =20)\n",
        ")\n",
        "\n",
        "ggplot(mse_data, aes(x = ModelSize, y = MSE, color = DataSet)) +\n",
        "    geom_line() +\n",
        "    geom_point() +\n",
        "    theme_minimal() +\n",
        "    labs(x = \"NumPreds\",\n",
        "         y = \"MSE\",\n",
        "         color = \"Dataset\")+\n",
        "    theme(legend.position = \"top\")+\n",
        "    scale_color_manual(values=c(\"#008F91\",\"#FDB515\"))\n",
        ""
      ],
      "metadata": {
        "id": "Nbsxe3XOscXe",
        "outputId": "134b63cc-1b28-4939-b30c-5ca1a01f1931",
        "colab": {
          "base_uri": "https://localhost:8080/",
          "height": 437
        }
      },
      "id": "Nbsxe3XOscXe",
      "execution_count": 90,
      "outputs": [
        {
          "output_type": "display_data",
          "data": {
            "text/plain": [
              "plot without title"
            ],
            "image/png": "[encoded data removed]"
          },
          "metadata": {
            "image/png": {
              "width": 420,
              "height": 420
            }
          }
        }
      ]
    },
    {
      "cell_type": "markdown",
      "metadata": {
        "id": "24f9d2f1"
      },
      "source": [
        ":c) Identify the best model according the test MSE. How does this model compare to the actual model used to simulate the dataset?\n",
        "\n",
        "*Note: If the model identified contains only an intercept or all of the features, then generate a new dataset (i.e. repeat part a with a different random seed) until the test set MSE is minimized for an intermediate model size.*"
      ],
      "id": "24f9d2f1"
    },
    {
      "cell_type": "code",
      "execution_count": 96,
      "metadata": {
        "id": "87db7d52",
        "vscode": {
          "languageId": "r"
        },
        "outputId": "dddf25dd-59f1-46f4-fd0c-efbbd0a1f9ba",
        "colab": {
          "base_uri": "https://localhost:8080/",
          "height": 199
        }
      },
      "outputs": [
        {
          "output_type": "display_data",
          "data": {
            "text/html": [
              "<table class=\"dataframe\">\n",
              "<caption>A data.frame: 1 × 4</caption>\n",
              "<thead>\n",
              "\t<tr><th scope=col>ModelSize</th><th scope=col>MSE</th><th scope=col>DataSet</th><th scope=col>diff</th></tr>\n",
              "\t<tr><th scope=col>&lt;int&gt;</th><th scope=col>&lt;dbl&gt;</th><th scope=col>&lt;chr&gt;</th><th scope=col>&lt;dbl&gt;</th></tr>\n",
              "</thead>\n",
              "<tbody>\n",
              "\t<tr><td>15</td><td>1.12552</td><td>Test</td><td>0</td></tr>\n",
              "</tbody>\n",
              "</table>\n"
            ],
            "text/markdown": "\nA data.frame: 1 × 4\n\n| ModelSize &lt;int&gt; | MSE &lt;dbl&gt; | DataSet &lt;chr&gt; | diff &lt;dbl&gt; |\n|---|---|---|---|\n| 15 | 1.12552 | Test | 0 |\n\n",
            "text/latex": "A data.frame: 1 × 4\n\\begin{tabular}{llll}\n ModelSize & MSE & DataSet & diff\\\\\n <int> & <dbl> & <chr> & <dbl>\\\\\n\\hline\n\t 15 & 1.12552 & Test & 0\\\\\n\\end{tabular}\n",
            "text/plain": [
              "  ModelSize MSE     DataSet diff\n",
              "1 15        1.12552 Test    0   "
            ]
          },
          "metadata": {}
        },
        {
          "output_type": "display_data",
          "data": {
            "text/html": [
              "14"
            ],
            "text/markdown": "14",
            "text/latex": "14",
            "text/plain": [
              "[1] 14"
            ]
          },
          "metadata": {}
        },
        {
          "output_type": "display_data",
          "data": {
            "text/html": [
              "<style>\n",
              ".dl-inline {width: auto; margin:0; padding: 0}\n",
              ".dl-inline>dt, .dl-inline>dd {float: none; width: auto; display: inline-block}\n",
              ".dl-inline>dt::after {content: \":\\0020\"; padding-right: .5ex}\n",
              ".dl-inline>dt:not(:first-of-type) {padding-left: .5ex}\n",
              "</style><dl class=dl-inline><dt>(Intercept)</dt><dd>0.164174872803206</dd><dt>X1</dt><dd>-1.11946239281875</dd><dt>X6</dt><dd>1.61711167341129</dd><dt>X8</dt><dd>0.668067929757318</dd><dt>X9</dt><dd>2.06235421795482</dd><dt>X10</dt><dd>-0.989256157239715</dd><dt>X11</dt><dd>-1.49787056845782</dd><dt>X12</dt><dd>-1.31070633309906</dd><dt>X13</dt><dd>-0.995436052052817</dd><dt>X14</dt><dd>0.897671056169313</dd><dt>X15</dt><dd>0.954942341143305</dd><dt>X16</dt><dd>-1.97103989885817</dd><dt>X17</dt><dd>-1.12750772300967</dd><dt>X19</dt><dd>-0.949654597259774</dd><dt>X20</dt><dd>-0.396798044753867</dd></dl>\n"
            ],
            "text/markdown": "(Intercept)\n:   0.164174872803206X1\n:   -1.11946239281875X6\n:   1.61711167341129X8\n:   0.668067929757318X9\n:   2.06235421795482X10\n:   -0.989256157239715X11\n:   -1.49787056845782X12\n:   -1.31070633309906X13\n:   -0.995436052052817X14\n:   0.897671056169313X15\n:   0.954942341143305X16\n:   -1.97103989885817X17\n:   -1.12750772300967X19\n:   -0.949654597259774X20\n:   -0.396798044753867\n\n",
            "text/latex": "\\begin{description*}\n\\item[(Intercept)] 0.164174872803206\n\\item[X1] -1.11946239281875\n\\item[X6] 1.61711167341129\n\\item[X8] 0.668067929757318\n\\item[X9] 2.06235421795482\n\\item[X10] -0.989256157239715\n\\item[X11] -1.49787056845782\n\\item[X12] -1.31070633309906\n\\item[X13] -0.995436052052817\n\\item[X14] 0.897671056169313\n\\item[X15] 0.954942341143305\n\\item[X16] -1.97103989885817\n\\item[X17] -1.12750772300967\n\\item[X19] -0.949654597259774\n\\item[X20] -0.396798044753867\n\\end{description*}\n",
            "text/plain": [
              "(Intercept)          X1          X6          X8          X9         X10 \n",
              "  0.1641749  -1.1194624   1.6171117   0.6680679   2.0623542  -0.9892562 \n",
              "        X11         X12         X13         X14         X15         X16 \n",
              " -1.4978706  -1.3107063  -0.9954361   0.8976711   0.9549423  -1.9710399 \n",
              "        X17         X19         X20 \n",
              " -1.1275077  -0.9496546  -0.3967980 "
            ]
          },
          "metadata": {}
        }
      ],
      "source": [
        "# WRITE YOUR CODE HERE\n",
        "best_model_test <- mse_data%>%\n",
        "  filter(DataSet==\"Test\")%>%\n",
        "  arrange(MSE)%>%\n",
        "  mutate(diff= MSE-min(MSE))%>%\n",
        "  filter(diff<=0.01*min(MSE))%>%\n",
        "  arrange(ModelSize)%>%\n",
        "  slice(1)\n",
        "best_model_size <- best_model$ModelSize\n",
        "best_model_fit <- coef(subset_fit, id = best_model_size)\n",
        "\n",
        "best_model_test\n",
        "best_model_size\n",
        "best_model_fit"
      ],
      "id": "87db7d52"
    },
    {
      "cell_type": "code",
      "source": [
        "beta_indices <- which(beta != 0)\n",
        "selected_model_indices <- c(1, 6, 8, 9, 10, 11, 12, 13, 14, 15, 16, 17, 19, 20)  # Indices from the selected model\n",
        "actual_impactful <- sort(beta_indices)\n",
        "predicted_impactful <- sort(selected_model_indices)\n",
        "actual_impactful\n",
        "predicted_impactful"
      ],
      "metadata": {
        "id": "-NnPOuP21r5b",
        "outputId": "7d21cb04-d500-4ae4-c3d4-54ffc267942e",
        "colab": {
          "base_uri": "https://localhost:8080/",
          "height": 52
        }
      },
      "id": "-NnPOuP21r5b",
      "execution_count": 99,
      "outputs": [
        {
          "output_type": "display_data",
          "data": {
            "text/html": [
              "<style>\n",
              ".list-inline {list-style: none; margin:0; padding: 0}\n",
              ".list-inline>li {display: inline-block}\n",
              ".list-inline>li:not(:last-child)::after {content: \"\\00b7\"; padding: 0 .5ex}\n",
              "</style>\n",
              "<ol class=list-inline><li>1</li><li>5</li><li>6</li><li>8</li><li>9</li><li>10</li><li>11</li><li>12</li><li>13</li><li>14</li><li>15</li><li>16</li><li>17</li><li>19</li><li>20</li></ol>\n"
            ],
            "text/markdown": "1. 1\n2. 5\n3. 6\n4. 8\n5. 9\n6. 10\n7. 11\n8. 12\n9. 13\n10. 14\n11. 15\n12. 16\n13. 17\n14. 19\n15. 20\n\n\n",
            "text/latex": "\\begin{enumerate*}\n\\item 1\n\\item 5\n\\item 6\n\\item 8\n\\item 9\n\\item 10\n\\item 11\n\\item 12\n\\item 13\n\\item 14\n\\item 15\n\\item 16\n\\item 17\n\\item 19\n\\item 20\n\\end{enumerate*}\n",
            "text/plain": [
              " [1]  1  5  6  8  9 10 11 12 13 14 15 16 17 19 20"
            ]
          },
          "metadata": {}
        },
        {
          "output_type": "display_data",
          "data": {
            "text/html": [
              "<style>\n",
              ".list-inline {list-style: none; margin:0; padding: 0}\n",
              ".list-inline>li {display: inline-block}\n",
              ".list-inline>li:not(:last-child)::after {content: \"\\00b7\"; padding: 0 .5ex}\n",
              "</style>\n",
              "<ol class=list-inline><li>1</li><li>6</li><li>8</li><li>9</li><li>10</li><li>11</li><li>12</li><li>13</li><li>14</li><li>15</li><li>16</li><li>17</li><li>19</li><li>20</li></ol>\n"
            ],
            "text/markdown": "1. 1\n2. 6\n3. 8\n4. 9\n5. 10\n6. 11\n7. 12\n8. 13\n9. 14\n10. 15\n11. 16\n12. 17\n13. 19\n14. 20\n\n\n",
            "text/latex": "\\begin{enumerate*}\n\\item 1\n\\item 6\n\\item 8\n\\item 9\n\\item 10\n\\item 11\n\\item 12\n\\item 13\n\\item 14\n\\item 15\n\\item 16\n\\item 17\n\\item 19\n\\item 20\n\\end{enumerate*}\n",
            "text/plain": [
              " [1]  1  6  8  9 10 11 12 13 14 15 16 17 19 20"
            ]
          },
          "metadata": {}
        }
      ]
    },
    {
      "cell_type": "markdown",
      "metadata": {
        "id": "894b4503"
      },
      "source": [
        "> *Write your response here*\n",
        "It does seem reasonably close to me. Especially when I experiemented with this across random seeds. It seems that most of the time that it is only 1 or 2 off. That is adding or removing a beta that was not indiced at 0. So I would say this is pretty successful as far as a comparison of the model made and the output."
      ],
      "id": "894b4503"
    },
    {
      "cell_type": "markdown",
      "metadata": {
        "id": "35b974f0"
      },
      "source": [
        "**DUE:** 5pm EST, April 8, 2024"
      ],
      "id": "35b974f0"
    },
    {
      "cell_type": "markdown",
      "metadata": {
        "id": "957a72c5"
      },
      "source": [
        "**IMPORTANT** Did you collaborate with anyone on this assignment? If so, list their names here.\n",
        "> *Someone's Name*"
      ],
      "id": "957a72c5"
    }
  ],
  "metadata": {
    "colab": {
      "provenance": [],
      "include_colab_link": true
    },
    "kernelspec": {
      "display_name": "R",
      "language": "R",
      "name": "ir"
    },
    "language_info": {
      "codemirror_mode": "r",
      "file_extension": ".r",
      "mimetype": "text/x-r-source",
      "name": "R",
      "pygments_lexer": "r",
      "version": "4.2.0"
    }
  },
  "nbformat": 4,
  "nbformat_minor": 5
}